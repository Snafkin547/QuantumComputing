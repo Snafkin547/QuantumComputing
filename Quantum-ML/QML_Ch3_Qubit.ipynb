{
  "nbformat": 4,
  "nbformat_minor": 0,
  "metadata": {
    "colab": {
      "name": "QML-Ch3 Qubit.ipynb",
      "provenance": [],
      "collapsed_sections": [],
      "authorship_tag": "ABX9TyNGTf44yvMnMUgzmUhlevdx",
      "include_colab_link": true
    },
    "kernelspec": {
      "name": "python3",
      "display_name": "Python 3"
    },
    "language_info": {
      "name": "python"
    }
  },
  "cells": [
    {
      "cell_type": "markdown",
      "metadata": {
        "id": "view-in-github",
        "colab_type": "text"
      },
      "source": [
        "<a href=\"https://colab.research.google.com/github/Snafkin547/Quantum-ML/blob/main/QML_Ch3_Qubit.ipynb\" target=\"_parent\"><img src=\"https://colab.research.google.com/assets/colab-badge.svg\" alt=\"Open In Colab\"/></a>"
      ]
    },
    {
      "cell_type": "code",
      "metadata": {
        "id": "ICK3_zqXgvY7"
      },
      "source": [
        "!pip install qiskit\n",
        "!pip install numpy scipy matplotlib ipython pandas sympy nose seaborn\n",
        "!pip install scikit-learn\n",
        "!pip install pylatexenc ipywidgets qutip\n",
        "!pip install kaggle"
      ],
      "execution_count": null,
      "outputs": []
    },
    {
      "cell_type": "code",
      "metadata": {
        "colab": {
          "base_uri": "https://localhost:8080/",
          "height": 69
        },
        "id": "BPF01VnDg5Lo",
        "outputId": "fa2f3142-6f4c-4971-907c-8521c669385a"
      },
      "source": [
        "from google.colab import drive\n",
        "import os\n",
        "\n",
        "#Google Drive mounting to Google Colab\n",
        "drive.mount('/content/gdrive')\n",
        "os.environ['KAGGLE_CONFIG_DIR'] = \"/content/gdrive/My Drive/QML/Kaggle\"\n",
        "#Change the working directory\n",
        "%cd /content/gdrive/My Drive/QML/Kaggle/\n",
        "\n",
        "#Check if the directory was properly changed\n",
        "%pwd"
      ],
      "execution_count": 3,
      "outputs": [
        {
          "output_type": "stream",
          "name": "stdout",
          "text": [
            "Mounted at /content/gdrive\n",
            "/content/gdrive/My Drive/QML/Kaggle\n"
          ]
        },
        {
          "output_type": "execute_result",
          "data": {
            "application/vnd.google.colaboratory.intrinsic+json": {
              "type": "string"
            },
            "text/plain": [
              "'/content/gdrive/My Drive/QML/Kaggle'"
            ]
          },
          "metadata": {},
          "execution_count": 3
        }
      ]
    },
    {
      "cell_type": "code",
      "metadata": {
        "colab": {
          "base_uri": "https://localhost:8080/"
        },
        "id": "99Yzllv3e0r4",
        "outputId": "30c8ea48-1413-43e4-949c-5fb6402bd3aa"
      },
      "source": [
        "import qiskit\n",
        "qiskit.__qiskit_version__"
      ],
      "execution_count": 4,
      "outputs": [
        {
          "output_type": "stream",
          "name": "stderr",
          "text": [
            "/usr/local/lib/python3.7/dist-packages/qiskit/aqua/__init__.py:86: DeprecationWarning: The package qiskit.aqua is deprecated. It was moved/refactored to qiskit-terra For more information see <https://github.com/Qiskit/qiskit-aqua/blob/main/README.md#migration-guide>\n",
            "  warn_package('aqua', 'qiskit-terra')\n"
          ]
        },
        {
          "output_type": "execute_result",
          "data": {
            "text/plain": [
              "{'qiskit-terra': '0.18.1', 'qiskit-aer': '0.8.2', 'qiskit-ignis': '0.6.0', 'qiskit-ibmq-provider': '0.16.0', 'qiskit-aqua': '0.9.4', 'qiskit': None, 'qiskit-nature': None, 'qiskit-finance': None, 'qiskit-optimization': None, 'qiskit-machine-learning': None}"
            ]
          },
          "metadata": {},
          "execution_count": 4
        }
      ]
    },
    {
      "cell_type": "markdown",
      "metadata": {
        "id": "1owFjjAChI34"
      },
      "source": [
        "### Create a Quantum Circuit"
      ]
    },
    {
      "cell_type": "code",
      "metadata": {
        "colab": {
          "base_uri": "https://localhost:8080/"
        },
        "id": "RpCnq8Aqgpsb",
        "outputId": "aaea424d-7bba-48cb-ada5-91d3da3fd740"
      },
      "source": [
        "from qiskit import QuantumCircuit\n",
        "\n",
        "#Circuit with 1 qubit\n",
        "qc=QuantumCircuit(1)\n",
        "\n",
        "#Define initial state as |1>\n",
        "initial_state=[0,1]\n",
        "\n",
        "#Apply initialization operation to the qubit at position 0\n",
        "qc.initialize(initial_state,0)"
      ],
      "execution_count": 6,
      "outputs": [
        {
          "output_type": "execute_result",
          "data": {
            "text/plain": [
              "<qiskit.circuit.instructionset.InstructionSet at 0x7f9c65322390>"
            ]
          },
          "metadata": {},
          "execution_count": 6
        }
      ]
    },
    {
      "cell_type": "markdown",
      "metadata": {
        "id": "BCTXAt2QiR0I"
      },
      "source": [
        "### Simulate Quantum Circuit"
      ]
    },
    {
      "cell_type": "code",
      "metadata": {
        "id": "4uQi0sVmhrAj"
      },
      "source": [
        "from qiskit import execute, Aer\n",
        "\n",
        "#Instruct Qiskit how to simulate\n",
        "backend=Aer.get_backend('statevector_simulator')\n",
        "\n",
        "#Run the circuit\n",
        "result=execute(qc, backend).result()"
      ],
      "execution_count": 7,
      "outputs": []
    },
    {
      "cell_type": "code",
      "metadata": {
        "colab": {
          "base_uri": "https://localhost:8080/",
          "height": 323
        },
        "id": "HhHdn5vVi0Ql",
        "outputId": "05495b20-c0a4-4dab-e4b2-e8dba8d79f80"
      },
      "source": [
        "from qiskit.visualization import plot_histogram\n",
        "import matplotlib.pyplot as plt\n",
        "\n",
        "# Get a probability distribution\n",
        "counts=result.get_counts()\n",
        "\n",
        "# Show the histogram\n",
        "plot_histogram(counts)\n"
      ],
      "execution_count": 8,
      "outputs": [
        {
          "output_type": "execute_result",
          "data": {
            "image/png": "[encoded data removed]",
            "text/plain": [
              "<Figure size 504x360 with 1 Axes>"
            ]
          },
          "metadata": {},
          "execution_count": 8
        }
      ]
    },
    {
      "cell_type": "markdown",
      "metadata": {
        "id": "FLhhuIlzjjpB"
      },
      "source": [
        "### Simulate with two possible states \n",
        "1.   with equal probability 50:50 \n",
        "2.   with sqewed probability 25:75\n",
        "\n"
      ]
    },
    {
      "cell_type": "code",
      "metadata": {
        "colab": {
          "base_uri": "https://localhost:8080/",
          "height": 328
        },
        "id": "Lq1hUtujjLz_",
        "outputId": "881753b7-9104-43d9-a7d9-abae6c4b32ac"
      },
      "source": [
        "#Equal Probability 50:50\n",
        "\n",
        "from math import sqrt\n",
        "\n",
        "# Quantum circuit with 1 qubit\n",
        "qc=QuantumCircuit(1)\n",
        "\n",
        "# Defining Quantum state |psi> - Total amplitudes needs to equal 1\n",
        "initial_state=[1/sqrt(2),1/sqrt(2)]\n",
        "\n",
        "# Initialize the 0th qubit\n",
        "qc.initialize(initial_state, 0)\n",
        "\n",
        "results=execute(qc,backend).result().get_counts()\n",
        "\n",
        "plot_histogram(results)"
      ],
      "execution_count": 14,
      "outputs": [
        {
          "output_type": "execute_result",
          "data": {
            "image/png": "[encoded data removed]",
            "text/plain": [
              "<Figure size 504x360 with 1 Axes>"
            ]
          },
          "metadata": {},
          "execution_count": 14
        }
      ]
    },
    {
      "cell_type": "code",
      "metadata": {
        "colab": {
          "base_uri": "https://localhost:8080/",
          "height": 323
        },
        "id": "yY_gMGnGkIKL",
        "outputId": "cf0510e1-cfd6-4bc9-a630-23a74a999216"
      },
      "source": [
        "#Sqewed Probability 25:75\n",
        "\n",
        "# Quantum circuit with 1 qubit\n",
        "qc=QuantumCircuit(1)\n",
        "\n",
        "# Defining Quantum state |psi> - Tottal amplitudes needs to equal 1\n",
        "initial_state=[1/2,sqrt(3)/2]\n",
        "\n",
        "# Initialize the 0th qubit\n",
        "qc.initialize(initial_state, 0)\n",
        "\n",
        "results=execute(qc,backend).result().get_counts()\n",
        "plot_histogram(results)"
      ],
      "execution_count": 20,
      "outputs": [
        {
          "output_type": "execute_result",
          "data": {
            "image/png": "[encoded data removed]",
            "text/plain": [
              "<Figure size 504x360 with 1 Axes>"
            ]
          },
          "metadata": {},
          "execution_count": 20
        }
      ]
    },
    {
      "cell_type": "code",
      "metadata": {
        "colab": {
          "base_uri": "https://localhost:8080/",
          "height": 323
        },
        "id": "u-4iOZ8DlWK_",
        "outputId": "9c327612-5ac7-448c-bec2-edbd1fdd129f"
      },
      "source": [
        "# Theta (angle) specifies quantum state vector |psi>\n",
        "\n",
        "from math import pi, cos, sin\n",
        "from qiskit import QuantumCircuit, Aer, execute\n",
        "from qiskit.visualization import plot_histogram\n",
        "\n",
        "def get_state(theta):\n",
        "  return [cos(theta/2), sin(theta/2)]\n",
        "\n",
        "theta=-pi*2/3\n",
        "qc=QuantumCircuit(1)\n",
        "qc.initialize(get_state(theta),0)\n",
        "backend=Aer.get_backend('statevector_simulator')\n",
        "result=execute(qc, backend).result()\n",
        "\n",
        "#Counter for the result of measurement\n",
        "counts=result.get_counts()\n",
        "\n",
        "plot_histogram(counts)"
      ],
      "execution_count": 22,
      "outputs": [
        {
          "output_type": "execute_result",
          "data": {
            "image/png": "[encoded data removed]",
            "text/plain": [
              "<Figure size 504x360 with 1 Axes>"
            ]
          },
          "metadata": {},
          "execution_count": 22
        }
      ]
    },
    {
      "cell_type": "code",
      "metadata": {
        "colab": {
          "base_uri": "https://localhost:8080/",
          "height": 62
        },
        "id": "YCIs47xxyprb",
        "outputId": "4c5a6073-3c0a-49d8-aaa2-daa4c2fd591e"
      },
      "source": [
        "# draw QC\n",
        "qc.draw(output=\"text\")"
      ],
      "execution_count": 23,
      "outputs": [
        {
          "output_type": "execute_result",
          "data": {
            "text/html": [
              "<pre style=\"word-wrap: normal;white-space: pre;background: #fff0;line-height: 1.1;font-family: &quot;Courier New&quot;,Courier,monospace\">     ┌──────────────────────────┐\n",
              "q_0: ┤ Initialize(0.5,-0.86603) ├\n",
              "     └──────────────────────────┘</pre>"
            ],
            "text/plain": [
              "     ┌──────────────────────────┐\n",
              "q_0: ┤ Initialize(0.5,-0.86603) ├\n",
              "     └──────────────────────────┘"
            ]
          },
          "metadata": {},
          "execution_count": 23
        }
      ]
    },
    {
      "cell_type": "code",
      "metadata": {
        "colab": {
          "base_uri": "https://localhost:8080/",
          "height": 323
        },
        "id": "yNXUJsiZ06Zl",
        "outputId": "95e4435b-2f04-4dc6-9db3-6cf14f327b69"
      },
      "source": [
        "# Whatif analysis if we measure before \n",
        "\n",
        "def get_state(theta):\n",
        "  return [cos(theta/2), sin(theta/2)]\n",
        "\n",
        "theta=-pi/2\n",
        "qc=QuantumCircuit(1)\n",
        "qc.initialize(get_state(theta),0)\n",
        "\n",
        "# Measure qubit\n",
        "qc.measure_all()\n",
        "\n",
        "# Return result\n",
        "backend=Aer.get_backend('statevector_simulator')\n",
        "result=execute(qc, backend).result()\n",
        "\n",
        "#Counter for the result of measurement\n",
        "counts=result.get_counts()\n",
        "\n",
        "plot_histogram(counts)"
      ],
      "execution_count": 29,
      "outputs": [
        {
          "output_type": "execute_result",
          "data": {
            "image/png": "[encoded data removed]",
            "text/plain": [
              "<Figure size 504x360 with 1 Axes>"
            ]
          },
          "metadata": {},
          "execution_count": 29
        }
      ]
    },
    {
      "cell_type": "code",
      "metadata": {
        "colab": {
          "base_uri": "https://localhost:8080/",
          "height": 92
        },
        "id": "IdFZG-2G1dql",
        "outputId": "1a100ec8-7a21-4ac9-fdf0-975f1b6e59a1"
      },
      "source": [
        "# draw QC after measurement\n",
        "qc.draw(output=\"text\")"
      ],
      "execution_count": 30,
      "outputs": [
        {
          "output_type": "execute_result",
          "data": {
            "text/html": [
              "<pre style=\"word-wrap: normal;white-space: pre;background: #fff0;line-height: 1.1;font-family: &quot;Courier New&quot;,Courier,monospace\">        ┌──────────────────────────────┐ ░ ┌─┐\n",
              "   q_0: ┤ Initialize(0.70711,-0.70711) ├─░─┤M├\n",
              "        └──────────────────────────────┘ ░ └╥┘\n",
              "meas: 1/════════════════════════════════════╩═\n",
              "                                            0 </pre>"
            ],
            "text/plain": [
              "        ┌──────────────────────────────┐ ░ ┌─┐\n",
              "   q_0: ┤ Initialize(0.70711,-0.70711) ├─░─┤M├\n",
              "        └──────────────────────────────┘ ░ └╥┘\n",
              "meas: 1/════════════════════════════════════╩═\n",
              "                                            0 "
            ]
          },
          "metadata": {},
          "execution_count": 30
        }
      ]
    },
    {
      "cell_type": "markdown",
      "metadata": {
        "id": "GbCf6OSj3VGg"
      },
      "source": [
        "### Parameterized Quantum Circuit (PQC)"
      ]
    },
    {
      "cell_type": "code",
      "metadata": {
        "id": "_NomvvKx4Gcq"
      },
      "source": [
        "import numpy as np\n",
        "with open('./train.npy', 'rb') as f:\n",
        "  train_input = np.load(f)\n",
        "  train_labels = np.load(f)\n",
        "\n",
        "with open('./test.npy', 'rb') as f:\n",
        "  test_input = np.load(f)\n",
        "  test_labels = np.load(f)"
      ],
      "execution_count": 32,
      "outputs": []
    },
    {
      "cell_type": "code",
      "metadata": {
        "id": "TGts_F1d6H7m"
      },
      "source": [
        "#Ratio of True Negatives amongst all actual negatives\n",
        "def specificity(matrix):\n",
        "    return matrix[0][0]/(matrix[0][0]+matrix[0][1]) if (matrix[0][0]+matrix[0][1] > 0) else 0\n",
        "\n",
        "## Negative Predictive Value\n",
        "def npv(matrix):\n",
        "    return matrix[0][0]/(matrix[0][0]+matrix[1][0]) if (matrix[0][0]+matrix[1][0] > 0) else 0"
      ],
      "execution_count": 43,
      "outputs": []
    },
    {
      "cell_type": "code",
      "metadata": {
        "id": "cJUQCF7e5rqz"
      },
      "source": [
        "#Runner for classifier\n",
        "def run(f_classify, x):\n",
        "  return list(map(f_classify, x))"
      ],
      "execution_count": 36,
      "outputs": []
    },
    {
      "cell_type": "code",
      "metadata": {
        "id": "Cc4Er3xW5kiI"
      },
      "source": [
        "def classifier_report(name, run, classify, input, labels):\n",
        "  cr_predictions=run(classify, input)\n",
        "  cr_cm=confusion_matrix(labels, cr_predictions)\n",
        "  \n",
        "  cr_precision=precision_score(labels, cr_predictions)\n",
        "  cr_recall=recall_score(labels, cr_predictions)\n",
        "  cr_specificity=specificity(cr_cm)\n",
        "  cr_npv=npv(cr_cm)\n",
        "  cr_level=0.25*(cr_precision+cr_recall+cr_specificity+cr_npv)\n",
        "\n",
        "  print('The precision score of the {} classifier is {:.2f}'.format(name, cr_precision))\n",
        "  print('The recall score of the {} classifier is {:.2f}'.format(name, cr_recall))\n",
        "  print('The specificity score of the {} classifier is {:.2f}'.format(name, cr_specificity))\n",
        "  print('The npv score of the {} classifier is {:.2f}'.format(name, cr_npv))\n",
        "  print('The information level is: {:.2f}'.format(cr_level))"
      ],
      "execution_count": 44,
      "outputs": []
    },
    {
      "cell_type": "code",
      "metadata": {
        "id": "Arw__keL3VPY"
      },
      "source": [
        "from qiskit import execute, Aer, QuantumCircuit\n",
        "from math import sqrt\n",
        "from sklearn.metrics import recall_score, precision_score, confusion_matrix\n",
        "\n",
        "def pqc_classify(backend, passenger_state):\n",
        "  qc=QuantumCircuit(1)\n",
        "  qc.initialize(passenger_state,0)\n",
        "  qc.measure_all()\n",
        "  result=execute(qc, backend).result()\n",
        "  counts=result.get_counts(qc)\n",
        "  # Get 0 or 1\n",
        "  return int(list(map(lambda item: item[0], counts.items()))[0])"
      ],
      "execution_count": 38,
      "outputs": []
    },
    {
      "cell_type": "code",
      "metadata": {
        "colab": {
          "base_uri": "https://localhost:8080/"
        },
        "id": "ZrOt4ls75JJ1",
        "outputId": "6ce73170-8249-4add-e5ca-af5edbbd1ef0"
      },
      "source": [
        "backend=Aer.get_backend('statevector_simulator')\n",
        "initial_state=[1/sqrt(2), 1/sqrt(2)]\n",
        "\n",
        "classifier_report(\"Random PQC\",\n",
        "                  run,\n",
        "                  lambda passenger: pqc_classify(backend, initial_state),\n",
        "                  train_input,\n",
        "                  train_labels)"
      ],
      "execution_count": 45,
      "outputs": [
        {
          "output_type": "stream",
          "name": "stdout",
          "text": [
            "The precision score of the Random PQC classifier is 0.37\n",
            "The recall score of the Random PQC classifier is 0.49\n",
            "The specificity score of the Random PQC classifier is 0.48\n",
            "The npv score of the Random PQC classifier is 0.61\n",
            "The information level is: 0.49\n"
          ]
        }
      ]
    },
    {
      "cell_type": "markdown",
      "metadata": {
        "id": "N7uQ60lB_epc"
      },
      "source": [
        "### Variational Hybrid Quantum-Classical Algorithm\n",
        "  Preprocessing and post processing are done in classical computation, while body part is quantum computation\n",
        "\n",
        "    • Pre-processing\n",
        "\n",
        "    • PQC\n",
        "    \n",
        "    • Post-processing"
      ]
    },
    {
      "cell_type": "code",
      "metadata": {
        "id": "pzGZ5w1lBN-L"
      },
      "source": [
        "def pre_process(passenger):\n",
        "  \"\"\"\n",
        "  passenger −− the normalized (array of numeric data) passenger data\n",
        "  returns a valid quantum state\n",
        "  \"\"\"\n",
        "  quantum_state = [1/sqrt(2), 1/sqrt(2)]\n",
        "  return quantum_state"
      ],
      "execution_count": 50,
      "outputs": []
    },
    {
      "cell_type": "code",
      "metadata": {
        "id": "GmJkgHYL5g6F"
      },
      "source": [
        "# PQC\n",
        "\n",
        "def pqc(backend, quantum_state):\n",
        "  qc=QuantumCircuit(1)\n",
        "  qc.initialize(quantum_state,0)\n",
        "  qc.measure_all()\n",
        "  result=execute(qc, backend).result()\n",
        "  counts=result.get_counts(qc)\n",
        "  # Get 0 or 1\n",
        "  return counts\n"
      ],
      "execution_count": 53,
      "outputs": []
    },
    {
      "cell_type": "code",
      "metadata": {
        "id": "IgmJNT4oAVtT"
      },
      "source": [
        "# Post processing\n",
        "\n",
        "def post_process(counts):\n",
        "  return int(list(map(lambda item: item[0], counts.items()))[0])\n"
      ],
      "execution_count": 48,
      "outputs": []
    },
    {
      "cell_type": "code",
      "metadata": {
        "colab": {
          "base_uri": "https://localhost:8080/"
        },
        "id": "VwqYPog6A2OA",
        "outputId": "1a203e29-dce3-471c-fda5-45427106d594"
      },
      "source": [
        "backend=Aer.get_backend('statevector_simulator')\n",
        "initial_state=[1/sqrt(2), 1/sqrt(2)]\n",
        "\n",
        "classifier_report(\"Variational\",\n",
        "                  run,\n",
        "                  lambda passenger: post_process(pqc(backend, pre_process(passenger))),\n",
        "                  train_input,\n",
        "                  train_labels)"
      ],
      "execution_count": 54,
      "outputs": [
        {
          "output_type": "stream",
          "name": "stdout",
          "text": [
            "The precision score of the Variational classifier is 0.38\n",
            "The recall score of the Variational classifier is 0.50\n",
            "The specificity score of the Variational classifier is 0.49\n",
            "The npv score of the Variational classifier is 0.61\n",
            "The information level is: 0.49\n"
          ]
        }
      ]
    },
    {
      "cell_type": "code",
      "metadata": {
        "id": "TYGBOCWqBatk"
      },
      "source": [
        "# Assume each feature (Age etc.) are independent of each other\n",
        "\n",
        "def weigh_feature(feature, weight):\n",
        "  return feature*weight\n"
      ],
      "execution_count": 55,
      "outputs": []
    },
    {
      "cell_type": "code",
      "metadata": {
        "id": "DYOEpjXqEC0x"
      },
      "source": [
        "from functools import reduce\n",
        "\n",
        "def get_overall_probability(features, weights):\n",
        "  \"\"\"\n",
        "  features: list of features of a passenger\n",
        "  weights: list of all features' weights\n",
        "  \"\"\"\n",
        "\n",
        "  #reduce features and weights into a signle number\n",
        "  return reduce(\n",
        "      lambda result, data: result+weigh_feature(*data), zip(features, weights),\n",
        "      0\n",
        "  )\n",
        "'''We reduce this list of (feature, weight) into a single number (line 8). Then, we\n",
        "call the weight_feature-function for each of the tuples and add up the results\n",
        "(line 9), starting with the value 0 (line 11).'''"
      ],
      "execution_count": 56,
      "outputs": []
    },
    {
      "cell_type": "code",
      "metadata": {
        "colab": {
          "base_uri": "https://localhost:8080/"
        },
        "id": "cKURx9ndEczH",
        "outputId": "17715985-b2ef-4155-d4f0-cbe16acaa24f"
      },
      "source": [
        "# Calculate weights of the features, which must be similar across passengers, to put them for prediction\n",
        "'''The Pearson correlation is best suited for linear continuous variables,\n",
        "whereas the Spearman correlation also works for monotonic ordinal variables.\n",
        "Since we have some categorical data (Plass, Sex, and Embarked), we use\n",
        "the Spearman method to calculate the correlation coefficient'''\n",
        "\n",
        "from scipy.stats import spearmanr\n",
        "\n",
        "columns=[list(map(lambda passenger: passenger[i], train_input)) for i in range(0,7)]\n",
        "\n",
        "# spearmanr returns correlation & p-value, as we only want correlation, it uses [0]\n",
        "correlations=list(map(lambda col: spearmanr(col, train_labels)[0], columns))\n",
        "correlations"
      ],
      "execution_count": 58,
      "outputs": [
        {
          "output_type": "execute_result",
          "data": {
            "text/plain": [
              "[-0.34151959779201324,\n",
              " -0.5545767391790297,\n",
              " -0.051304745706990805,\n",
              " 0.08900563280907048,\n",
              " 0.14287867313093622,\n",
              " 0.3280737376154011,\n",
              " -0.15452237217995035]"
            ]
          },
          "metadata": {},
          "execution_count": 58
        }
      ]
    },
    {
      "cell_type": "code",
      "metadata": {
        "id": "CwF4zjNhFo2b"
      },
      "source": [
        "# Putting the weights into pre-processing \n",
        "from math import pi, sin, cos\n",
        "\n",
        "def get_state(theta):\n",
        "  return [cos(theta/2), sin(theta/2)]\n",
        "\n",
        "def pre_process_weighted(passenger):\n",
        "  #Get overall prob\n",
        "  mu=get_overall_probability(passenger, correlations)\n",
        "\n",
        "  #Get QS\n",
        "  quantum_state=get_state((1-mu)*pi)\n",
        "  return quantum_state\n"
      ],
      "execution_count": 59,
      "outputs": []
    },
    {
      "cell_type": "code",
      "metadata": {
        "colab": {
          "base_uri": "https://localhost:8080/"
        },
        "id": "LZSAGzexGrU7",
        "outputId": "5184e048-b88a-4112-f27d-36ceab1523fc"
      },
      "source": [
        "# Training result\n",
        "\n",
        "backend = Aer.get_backend('statevector_simulator')\n",
        "\n",
        "classifier_report(\"Variational\",\n",
        "  run,\n",
        "  lambda passenger: post_process(pqc(backend, pre_process_weighted(\n",
        "  passenger))),\n",
        "  train_input,\n",
        "  train_labels)"
      ],
      "execution_count": 61,
      "outputs": [
        {
          "output_type": "stream",
          "name": "stdout",
          "text": [
            "The precision score of the Variational classifier is 0.70\n",
            "The recall score of the Variational classifier is 0.63\n",
            "The specificity score of the Variational classifier is 0.84\n",
            "The npv score of the Variational classifier is 0.78\n",
            "The information level is: 0.74\n"
          ]
        }
      ]
    },
    {
      "cell_type": "code",
      "metadata": {
        "colab": {
          "base_uri": "https://localhost:8080/"
        },
        "id": "Pg8NOvPJG4tW",
        "outputId": "26125348-455a-4750-f958-16ba5c40a1dc"
      },
      "source": [
        "# Testing result\n",
        "\n",
        "backend = Aer.get_backend('statevector_simulator')\n",
        "\n",
        "classifier_report(\"Variational\",\n",
        "  run,\n",
        "  lambda passenger: post_process(pqc(backend, pre_process_weighted(\n",
        "  passenger))),\n",
        "  test_input,\n",
        "  test_labels)"
      ],
      "execution_count": 62,
      "outputs": [
        {
          "output_type": "stream",
          "name": "stdout",
          "text": [
            "The precision score of the Variational classifier is 0.80\n",
            "The recall score of the Variational classifier is 0.59\n",
            "The specificity score of the Variational classifier is 0.91\n",
            "The npv score of the Variational classifier is 0.78\n",
            "The information level is: 0.77\n"
          ]
        }
      ]
    }
  ]
}
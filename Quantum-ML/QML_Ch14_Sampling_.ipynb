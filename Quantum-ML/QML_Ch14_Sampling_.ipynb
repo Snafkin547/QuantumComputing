{
  "nbformat": 4,
  "nbformat_minor": 0,
  "metadata": {
    "colab": {
      "name": "QML-Ch14 Sampling .ipynb",
      "provenance": [],
      "collapsed_sections": [],
      "authorship_tag": "ABX9TyOErx3tT/GysasOHXLQQnDe",
      "include_colab_link": true
    },
    "kernelspec": {
      "name": "python3",
      "display_name": "Python 3"
    },
    "language_info": {
      "name": "python"
    }
  },
  "cells": [
    {
      "cell_type": "markdown",
      "metadata": {
        "id": "view-in-github",
        "colab_type": "text"
      },
      "source": [
        "<a href=\"https://colab.research.google.com/github/Snafkin547/Quantum-ML/blob/main/QML_Ch14_Sampling_.ipynb\" target=\"_parent\"><img src=\"https://colab.research.google.com/assets/colab-badge.svg\" alt=\"Open In Colab\"/></a>"
      ]
    },
    {
      "cell_type": "code",
      "metadata": {
        "colab": {
          "base_uri": "https://localhost:8080/"
        },
        "id": "nuJRGIxpew_x",
        "outputId": "d0d7326f-5521-4039-a408-2b813a3146f7"
      },
      "source": [
        "!pip install qiskit\n",
        "!pip install numpy scipy matplotlib ipython pandas sympy nose seaborn\n",
        "!pip install scikit-learn\n",
        "!pip install pylatexenc ipywidgets qutip\n",
        "!pip install kaggle\n",
        "\n",
        "from google.colab import drive\n",
        "import os\n",
        "\n",
        "#Google Drive mounting to Google Colab\n",
        "drive.mount('/content/gdrive')\n",
        "os.environ['KAGGLE_CONFIG_DIR'] = \"/content/gdrive/My Drive/QML/Kaggle\"\n",
        "#Change the working directory\n",
        "%cd /content/gdrive/My Drive/QML/Kaggle/\n",
        "\n",
        "#Check if the directory was properly changed\n",
        "%pwd\n",
        "\n",
        "import pandas as pd\n",
        "\n",
        "train=pd.read_csv('./train.csv')"
      ],
      "execution_count": 1,
      "outputs": [
        {
          "output_type": "stream",
          "name": "stdout",
          "text": [
            "Mounted at /content/gdrive\n",
            "/content/gdrive/My Drive/QML/Kaggle\n"
          ]
        }
      ]
    },
    {
      "cell_type": "code",
      "metadata": {
        "id": "mqauyqCLiJRL"
      },
      "source": [
        "from qiskit import QuantumCircuit, Aer, execute\n",
        "from qiskit import ClassicalRegister, QuantumRegister\n",
        "from qiskit.visualization import plot_histogram\n",
        "from qiskit.circuit.library import ZGate\n",
        "\n",
        "import matplotlib.pyplot as plt\n",
        "from math import asin, sqrt\n",
        "\n",
        "def prob_to_angle(prob):\n",
        "    return 2*asin(sqrt(prob))\n",
        "\n",
        "# the maximum age of a passenger we consider as a child\n",
        "max_child_age = 8\n",
        "\n",
        "# probability of being a child\n",
        "population_child = train[train.Age.le(max_child_age)]\n",
        "p_child = len(population_child)/len(train)\n",
        "\n",
        "# probability of being female\n",
        "population_female = train[train.Sex.eq(\"female\")]\n",
        "p_female = len(population_female)/len(train)\n",
        "\n",
        "pop_first = train[train.Pclass.eq(1)]\n",
        "surv_first =  round(len(pop_first[pop_first.Survived.eq(1)])/len(pop_first), 2)\n",
        "p_first = round(len(pop_first)/len(train), 2)\n",
        "\n",
        "pop_second = train[train.Pclass.eq(2)]\n",
        "surv_second =  round(len(pop_second[pop_second.Survived.eq(1)])/len(pop_second), 2)\n",
        "p_second = round(len(pop_second)/len(train), 2)\n",
        "\n",
        "pop_third = train[train.Pclass.eq(3)]\n",
        "surv_third =  round(len(pop_third[pop_third.Survived.eq(1)])/len(pop_third), 2)\n",
        "p_third = round(len(pop_third)/len(train), 2)\n",
        "\n",
        "\n",
        "# positions of the qubits\n",
        "QPOS_ISCHILD = 0\n",
        "QPOS_SEX = 1\n",
        "QPOS_NORM = 2\n",
        "QPOS_FIRST = 3\n",
        "QPOS_SECOND = 4\n",
        "QPOS_THIRD = 5\n",
        "QPOS_SURV = 6\n",
        "QUBITS = 7\n",
        "\n",
        "\n",
        "trained_params = {\n",
        "    'p_norm_cms': 0.6021334301303094,\n",
        "    'p_norm_cmd': 0.07088902981523437,\n",
        "    'p_norm_cfs': 0.9904336919724537,\n",
        "    'p_norm_cfd': 0.8392179490424515,\n",
        "    'p_norm_ams': 0.49195927424087027,\n",
        "    'p_norm_amd': 0.04654642501038004,\n",
        "    'p_norm_afs': 0.9978526500251851,\n",
        "    'p_norm_afd': 0.9590619707414763\n",
        "}\n",
        "\n",
        "def prepare_data(passengers, params):\n",
        "    \"\"\"\n",
        "    params = {\n",
        "        'p_norm_cms': 0.45,\n",
        "        'p_norm_cmd': 0.46,\n",
        "        'p_norm_cfs': 0.47,\n",
        "        'p_norm_cfd': 0.48,\n",
        "        'p_norm_ams': 0.49,\n",
        "        'p_norm_amd': 0.51,\n",
        "        'p_norm_afs': 0.52,\n",
        "        'p_norm_afd': 0.53,\n",
        "    }\n",
        "    \"\"\"\n",
        "    # is the passenger a child?\n",
        "    passengers['IsChild'] = passengers['Age'].map(lambda age: 0 if age > max_child_age else 1)\n",
        "\n",
        "    # the probability of favored by norm given Age, Sex, and Survival\n",
        "    passengers['Norm'] = list(map(\n",
        "        lambda item: params['p_norm_{}{}{}'.format(\n",
        "            'a' if item[0] == 0 else 'c',\n",
        "            item[1][0],\n",
        "            'd' if item[2] == 0 else 's'\n",
        "        )],\n",
        "        list(zip(passengers['IsChild'], passengers['Sex'], passengers['Survived']))\n",
        "    ))\n",
        "    return passengers\n",
        "\n",
        "def calculate_norm_params(passengers):\n",
        "    # the different populations in our data\n",
        "    pop_children = passengers[passengers.IsChild.eq(1)]\n",
        "    pop_adults = passengers[passengers.IsChild.eq(0)]\n",
        "\n",
        "    # combinations of being a child and gender\n",
        "    pop_am = pop_adults[pop_adults.Sex.eq('male')]\n",
        "    pop_af = pop_adults[pop_adults.Sex.eq('female')]\n",
        "    pop_cm = pop_children[pop_children.Sex.eq('male')]\n",
        "    pop_cf = pop_children[pop_children.Sex.eq('female')]\n",
        "\n",
        "    norm_params = {\n",
        "        'p_norm_am': pop_am.Norm.sum() /  len(pop_am),\n",
        "        'p_norm_af': pop_af.Norm.sum() /  len(pop_af),\n",
        "        'p_norm_cm': pop_cm.Norm.sum() /  len(pop_cm),\n",
        "        'p_norm_cf': pop_cf.Norm.sum() /  len(pop_cf),\n",
        "    }\n",
        "\n",
        "    return norm_params\n",
        "\n",
        "def calculate_surv_params(passengers):\n",
        "    # all survivors\n",
        "    survivors = passengers[passengers.Survived.eq(1)]\n",
        "    \n",
        "    # weight the passenger\n",
        "    def weight_passenger(norm, pclass):\n",
        "        return lambda passenger: (passenger[0] if norm else 1-passenger[0]) * (1 if passenger[1] == pclass else 0)\n",
        "\n",
        "    # calculate the probability to survive\n",
        "    def calc_prob(norm, pclass):\n",
        "        return sum(list(map(\n",
        "            weight_passenger(norm, pclass),\n",
        "            list(zip(survivors['Norm'], survivors['Pclass']))\n",
        "        ))) / sum(list(map(\n",
        "            weight_passenger(norm, pclass), \n",
        "            list(zip(passengers['Norm'], passengers['Pclass']))\n",
        "        )))\n",
        "    \n",
        "    surv_params = {\n",
        "        'p_surv_f1': calc_prob(True, 1),\n",
        "        'p_surv_f2': calc_prob(True, 2),\n",
        "        'p_surv_f3': calc_prob(True, 3),\n",
        "        'p_surv_u1': calc_prob(False, 1),\n",
        "        'p_surv_u2': calc_prob(False, 2),\n",
        "        'p_surv_u3': calc_prob(False, 3)\n",
        "    }\n",
        "\n",
        "    return surv_params\n",
        "\n",
        "def ccry(qc, theta, control1, control2, controlled):\n",
        "    qc.cry(theta/2, control2, controlled)\n",
        "    qc.cx(control1, control2)\n",
        "    qc.cry(-theta/2, control2, controlled)\n",
        "    qc.cx(control1, control2)\n",
        "    qc.cry(theta/2, control1, controlled)\n",
        "\n",
        "def as_pqc(cnt_quantum, with_qc, cnt_classical=1, shots=1, hist=False, measure=False):\n",
        "    # Prepare the circuit with qubits and a classical bit to hold the measurement\n",
        "    qr = QuantumRegister(cnt_quantum)\n",
        "    cr = ClassicalRegister(cnt_classical)\n",
        "    qc = QuantumCircuit(qr, cr) if measure else QuantumCircuit(qr)\n",
        "\n",
        "    with_qc(qc, qr=qr, cr=cr)\n",
        "    \n",
        "    results = execute(\n",
        "        qc,\n",
        "        Aer.get_backend('statevector_simulator') if measure is False else Aer.get_backend('qasm_simulator'),\n",
        "        shots=shots\n",
        "    ).result().get_counts()\n",
        "    \n",
        "    return plot_histogram(results, figsize=(12,4)) if hist else results\n",
        "\n",
        "\n",
        "def apply_ischild_sex(qc):\n",
        "    # set the marginal probability of isChild\n",
        "    qc.ry(prob_to_angle(p_child), QPOS_ISCHILD)\n",
        "\n",
        "    # set the marginal probability of Sex\n",
        "    qc.ry(prob_to_angle(p_female), QPOS_SEX)\n",
        "\n",
        "\n",
        "def apply_norm(qc, norm_params):\n",
        "    \"\"\"\n",
        "    norm_params = {\n",
        "        'p_norm_am': 0.25,\n",
        "        'p_norm_af': 0.35,\n",
        "        'p_norm_cm': 0.45,\n",
        "        'p_norm_cf': 0.55\n",
        "    }\n",
        "    \"\"\"\n",
        "\n",
        "    # set the conditional probability of Norm given adult/male\n",
        "    qc.x(QPOS_ISCHILD)\n",
        "    qc.x(QPOS_SEX)\n",
        "    ccry(qc, prob_to_angle(\n",
        "        norm_params['p_norm_am']\n",
        "    ),QPOS_ISCHILD, QPOS_SEX, QPOS_NORM)\n",
        "    qc.x(QPOS_ISCHILD)\n",
        "    qc.x(QPOS_SEX)\n",
        "\n",
        "    # set the conditional probability of Norm given adult/female\n",
        "    qc.x(QPOS_ISCHILD)\n",
        "    ccry(qc, prob_to_angle(\n",
        "        norm_params['p_norm_af']\n",
        "    ),QPOS_ISCHILD, QPOS_SEX, QPOS_NORM)\n",
        "    qc.x(QPOS_ISCHILD)\n",
        "\n",
        "    # set the conditional probability of Norm given child/male\n",
        "    qc.x(QPOS_SEX)\n",
        "    ccry(qc, prob_to_angle(\n",
        "        norm_params['p_norm_cm']\n",
        "    ),QPOS_ISCHILD, QPOS_SEX, QPOS_NORM)\n",
        "    qc.x(QPOS_SEX)\n",
        "\n",
        "    # set the conditional probability of Norm given child/female\n",
        "    ccry(qc, prob_to_angle(\n",
        "        norm_params['p_norm_cf']\n",
        "    ),QPOS_ISCHILD, QPOS_SEX, QPOS_NORM)\n",
        "\n",
        "def apply_class(qc):\n",
        "    # set the marginal probability of Pclass=1st\n",
        "    qc.ry(prob_to_angle(p_first), QPOS_FIRST)\n",
        "\n",
        "    qc.x(QPOS_FIRST)\n",
        "    # set the marginal probability of Pclass=2nd\n",
        "    qc.cry(prob_to_angle(p_second/(1-p_first)), QPOS_FIRST, QPOS_SECOND)\n",
        "\n",
        "    # set the marginal probability of Pclass=3rd    \n",
        "    qc.x(QPOS_SECOND)\n",
        "    ccry(qc, prob_to_angle(p_third/(1-p_first-p_second)), QPOS_FIRST, QPOS_SECOND, QPOS_THIRD)\n",
        "    qc.x(QPOS_SECOND)\n",
        "    qc.x(QPOS_FIRST)\n",
        "\n",
        "def apply_survival(qc, surv_params):    \n",
        "    \"\"\"\n",
        "    surv_params = {\n",
        "        'p_surv_f1': 0.3,\n",
        "        'p_surv_f2': 0.4,\n",
        "        'p_surv_f3': 0.5,\n",
        "        'p_surv_u1': 0.6,\n",
        "        'p_surv_u2': 0.7,\n",
        "        'p_surv_u3': 0.8\n",
        "    }\n",
        "    \"\"\"\n",
        "\n",
        "    # set the conditional probability of Survival given unfavored by norm\n",
        "    qc.x(QPOS_NORM)\n",
        "    ccry(qc, prob_to_angle(\n",
        "        surv_params['p_surv_u1']\n",
        "    ),QPOS_NORM, QPOS_FIRST, QPOS_SURV)\n",
        "\n",
        "    ccry(qc, prob_to_angle(\n",
        "        surv_params['p_surv_u2']\n",
        "    ),QPOS_NORM, QPOS_SECOND, QPOS_SURV)\n",
        "\n",
        "    ccry(qc, prob_to_angle(\n",
        "        surv_params['p_surv_u3']\n",
        "    ),QPOS_NORM, QPOS_THIRD, QPOS_SURV)\n",
        "    qc.x(QPOS_NORM)\n",
        "\n",
        "    # set the conditional probability of Survival given favored by norm\n",
        "    ccry(qc, prob_to_angle(\n",
        "        surv_params['p_surv_f1']\n",
        "    ),QPOS_NORM, QPOS_FIRST, QPOS_SURV)\n",
        "\n",
        "    ccry(qc, prob_to_angle(\n",
        "        surv_params['p_surv_f2']\n",
        "    ),QPOS_NORM, QPOS_SECOND, QPOS_SURV)\n",
        "\n",
        "    ccry(qc, prob_to_angle(\n",
        "        surv_params['p_surv_f3']\n",
        "    ),QPOS_NORM, QPOS_THIRD, QPOS_SURV)"
      ],
      "execution_count": 2,
      "outputs": []
    },
    {
      "cell_type": "markdown",
      "metadata": {
        "id": "OPeROyeOj3z1"
      },
      "source": [
        "### Forward Sampling"
      ]
    },
    {
      "cell_type": "code",
      "metadata": {
        "colab": {
          "base_uri": "https://localhost:8080/",
          "height": 268
        },
        "id": "q1JDupwJiiTH",
        "outputId": "e2dca85c-c083-4951-9712-96f1e8db726f"
      },
      "source": [
        "def get_trained_qbn(passengers, params, hist=True):\n",
        "\n",
        "    prepared_passengers = prepare_data(passengers, params)\n",
        "    norm_params = calculate_norm_params(prepared_passengers)\n",
        "    surv_params = calculate_surv_params(prepared_passengers)\n",
        "\n",
        "    def qbn_titanic(): \n",
        "        def circuit(qc, qr=None, cr=None):\n",
        "            apply_ischild_sex(qc)\n",
        "            apply_norm(qc, norm_params)\n",
        "            apply_class(qc)\n",
        "            apply_survival(qc, surv_params)\n",
        "\n",
        "            qc.measure(QPOS_SURV, cr[0])\n",
        "\n",
        "        return as_pqc(QUBITS, circuit, hist=hist, cnt_classical=1, measure=True, shots=1000)\n",
        "    return qbn_titanic()\n",
        "    \n",
        "get_trained_qbn(train, trained_params)"
      ],
      "execution_count": 8,
      "outputs": [
        {
          "output_type": "execute_result",
          "data": {
            "image/png": "[encoded data removed]",
            "text/plain": [
              "<Figure size 864x288 with 1 Axes>"
            ]
          },
          "metadata": {},
          "execution_count": 8
        }
      ]
    },
    {
      "cell_type": "markdown",
      "metadata": {
        "id": "J7y1rCebj6dM"
      },
      "source": [
        "### Bayesian Rejection Sampling"
      ]
    },
    {
      "cell_type": "code",
      "metadata": {
        "colab": {
          "base_uri": "https://localhost:8080/"
        },
        "id": "p38f7IE9jaRu",
        "outputId": "aa33edd3-b8a0-4e12-d7c8-3f10aea5031e"
      },
      "source": [
        "def get_trained_qbn_norm(passengers, params):\n",
        "\n",
        "    prepared_passengers = prepare_data(passengers, params)\n",
        "    norm_params = calculate_norm_params(prepared_passengers)\n",
        "    surv_params = calculate_surv_params(prepared_passengers)\n",
        "\n",
        "    def qbn_titanic(): \n",
        "        def circuit(qc, qr=None, cr=None):\n",
        "            apply_ischild_sex(qc)\n",
        "            apply_norm(qc, norm_params)\n",
        "            apply_class(qc)\n",
        "            apply_survival(qc, surv_params)\n",
        "\n",
        "            qc.measure(QPOS_ISCHILD, cr[0])\n",
        "            qc.measure(QPOS_SEX, cr[1])\n",
        "            qc.measure(QPOS_NORM, cr[2])\n",
        "\n",
        "        return as_pqc(QUBITS, circuit, hist=False, cnt_classical=3, measure=True, shots=10000)\n",
        "    return qbn_titanic()\n",
        "    \n",
        "norm_mes = get_trained_qbn_norm(train, trained_params)\n",
        "norm_mes"
      ],
      "execution_count": 13,
      "outputs": [
        {
          "output_type": "execute_result",
          "data": {
            "text/plain": [
              "{'000': 5415,\n",
              " '001': 311,\n",
              " '010': 34,\n",
              " '011': 13,\n",
              " '100': 738,\n",
              " '101': 74,\n",
              " '110': 3211,\n",
              " '111': 204}"
            ]
          },
          "metadata": {},
          "execution_count": 13
        }
      ]
    },
    {
      "cell_type": "code",
      "metadata": {
        "colab": {
          "base_uri": "https://localhost:8080/"
        },
        "id": "Wz8lKFlMkXwW",
        "outputId": "a30c76a2-18b2-4bcd-9bc8-42ee17173670"
      },
      "source": [
        "print(\"Chance to be favored by norm\")\n",
        "print(\"Female children: {:.2f} \".format(norm_mes['111']/(norm_mes['111']+ norm_mes['011'])))\n",
        "print(\"Female adults: {:.2f} \".format(norm_mes['110']/(norm_mes['110']+ norm_mes['010'])))\n",
        "print(\"Male children: {:.2f} \".format(norm_mes['101']/(norm_mes['101']+ norm_mes['001'])))\n",
        "print(\"Male adults: {:.2f} \".format(norm_mes['100']/(norm_mes['100']+norm_mes['000'])))"
      ],
      "execution_count": 14,
      "outputs": [
        {
          "output_type": "stream",
          "name": "stdout",
          "text": [
            "Chance to be favored by norm\n",
            "Female children: 0.94 \n",
            "Female adults: 0.99 \n",
            "Male children: 0.19 \n",
            "Male adults: 0.12 \n"
          ]
        }
      ]
    },
    {
      "cell_type": "code",
      "metadata": {
        "colab": {
          "base_uri": "https://localhost:8080/"
        },
        "id": "lhvuczTxjIle",
        "outputId": "64dddcc5-49d9-470c-c3cb-d20cfa380205"
      },
      "source": [
        "def get_trained_qbn_surv(passengers, params):\n",
        "\n",
        "    prepared_passengers = prepare_data(passengers, params)\n",
        "    norm_params = calculate_norm_params(prepared_passengers)\n",
        "    surv_params = calculate_surv_params(prepared_passengers)\n",
        "\n",
        "    def qbn_titanic(): \n",
        "        def circuit(qc, qr=None, cr=None):\n",
        "            apply_ischild_sex(qc)\n",
        "            apply_norm(qc, norm_params)\n",
        "            apply_class(qc)\n",
        "            apply_survival(qc, surv_params)\n",
        "\n",
        "            qc.measure(QPOS_NORM, cr[0])\n",
        "            qc.measure(QPOS_FIRST, cr[1])\n",
        "            qc.measure(QPOS_SECOND, cr[2])\n",
        "            qc.measure(QPOS_THIRD, cr[3])\n",
        "            qc.measure(QPOS_SURV, cr[4])\n",
        "\n",
        "        return as_pqc(QUBITS, circuit, hist=False, cnt_classical=5, measure=True, shots=10000)\n",
        "    return qbn_titanic()\n",
        "    \n",
        "surv_mes = get_trained_qbn_surv(train, trained_params)\n",
        "surv_mes"
      ],
      "execution_count": 16,
      "outputs": [
        {
          "output_type": "execute_result",
          "data": {
            "text/plain": [
              "{'00010': 1017,\n",
              " '00011': 55,\n",
              " '00100': 1150,\n",
              " '00101': 99,\n",
              " '01000': 2900,\n",
              " '01001': 1068,\n",
              " '10010': 303,\n",
              " '10011': 960,\n",
              " '10100': 111,\n",
              " '10101': 853,\n",
              " '11000': 211,\n",
              " '11001': 1273}"
            ]
          },
          "metadata": {},
          "execution_count": 16
        }
      ]
    },
    {
      "cell_type": "code",
      "metadata": {
        "colab": {
          "base_uri": "https://localhost:8080/"
        },
        "id": "9n_cGC_xnBJw",
        "outputId": "d65f082f-e1d5-4dab-e217-763814427737"
      },
      "source": [
        "print(\"Chance to survive\")\n",
        "print(\"Favored 1st: {:.2f} \".format(surv_mes['10011']/(surv_mes['10011']+surv_mes['00011'])))\n",
        "print(\"Favored 2nd: {:.2f} \".format(surv_mes['10101']/(surv_mes['10101']+surv_mes['00101'])))\n",
        "print(\"Favored 3rd: {:.2f} \".format(surv_mes['11001']/(surv_mes['11001']+surv_mes['01001'])))\n",
        "print(\"Unfavored 1st: {:.2f} \".format(surv_mes['10010']/(surv_mes['10010']+surv_mes['00010'])))\n",
        "print(\"Unfavored 2nd: {:.2f} \".format(surv_mes['10100']/(surv_mes['10100']+surv_mes['00100'])))\n",
        "print(\"Unfavored 3rd: {:.2f} \".format(surv_mes['11000']/(surv_mes['11000']+surv_mes['01000'])))"
      ],
      "execution_count": 17,
      "outputs": [
        {
          "output_type": "stream",
          "name": "stdout",
          "text": [
            "Chance to survive\n",
            "Favored 1st: 0.95 \n",
            "Favored 2nd: 0.90 \n",
            "Favored 3rd: 0.54 \n",
            "Unfavored 1st: 0.23 \n",
            "Unfavored 2nd: 0.09 \n",
            "Unfavored 3rd: 0.07 \n"
          ]
        }
      ]
    },
    {
      "cell_type": "markdown",
      "metadata": {
        "id": "ZzIIguEXp0N9"
      },
      "source": [
        "### Quantum Rejection Sampling"
      ]
    },
    {
      "cell_type": "code",
      "metadata": {
        "id": "xGRjBoL-nVJQ"
      },
      "source": [
        "def oracle(qr, draw=False):\n",
        "    # Create a sub-circuit\n",
        "    o_qc = QuantumCircuit(qr)\n",
        "\n",
        "    o_qc.append(ZGate().control(2), [qr[QPOS_ISCHILD], qr[QPOS_SEX], qr[QPOS_NORM]])    \n",
        "    \n",
        "    if draw:\n",
        "        return o_qc.draw()\n",
        "    else:\n",
        "        # We return the oracle as a gate\n",
        "        Oracle = o_qc.to_gate()\n",
        "        Oracle.name = \"oracle\"\n",
        "        return Oracle"
      ],
      "execution_count": 26,
      "outputs": []
    },
    {
      "cell_type": "code",
      "metadata": {
        "id": "M_WziOAprDUQ"
      },
      "source": [
        "def amplifier(qr, draw=False):\n",
        "    # Create a sub-circuit\n",
        "    a_qc = QuantumCircuit(qr)\n",
        "\n",
        "    apply_ischild_sex(a_qc) # H\n",
        "    a_qc.x(qr[QPOS_ISCHILD])\n",
        "    a_qc.x(qr[QPOS_SEX])\n",
        "    a_qc.cz(qr[QPOS_ISCHILD], qr[QPOS_SEX])\n",
        "    a_qc.x(qr[QPOS_ISCHILD])\n",
        "    a_qc.x(qr[QPOS_SEX])\n",
        "    apply_ischild_sex(a_qc) # H\n",
        "    \n",
        "    if draw:\n",
        "        return a_qc.draw()\n",
        "    else:\n",
        "        # We return the oracle as a gate\n",
        "        Amplifier = a_qc.to_gate()\n",
        "        Amplifier.name = \"amplifier\"\n",
        "        return Amplifier"
      ],
      "execution_count": 24,
      "outputs": []
    },
    {
      "cell_type": "code",
      "metadata": {
        "colab": {
          "base_uri": "https://localhost:8080/"
        },
        "id": "_q9tBXDDr5wB",
        "outputId": "42f518b6-ac16-4aab-8e7e-592fe5d6c9ce"
      },
      "source": [
        "def get_trained_qbn_amp(passengers, params):\n",
        "\n",
        "    prepared_passengers = prepare_data(passengers, params)\n",
        "    norm_params = calculate_norm_params(prepared_passengers)\n",
        "    surv_params = calculate_surv_params(prepared_passengers)\n",
        "\n",
        "    def qbn_titanic(): \n",
        "        def circuit(qc, qr=None, cr=None):\n",
        "        \n",
        "            # amplifier replacing the H-gates\n",
        "            qc.append(amplifier(qr), qr)\n",
        "\n",
        "            # Amplification\n",
        "            qc.append(oracle(qr), qr)\n",
        "            qc.append(amplifier(qr), qr)\n",
        "            qc.append(oracle(qr), qr)\n",
        "            qc.append(amplifier(qr), qr)\n",
        "            \n",
        "            qc.x(QPOS_ISCHILD)\n",
        "            qc.x(QPOS_SEX)\n",
        "            apply_norm(qc, norm_params)\n",
        "            apply_survival(qc, surv_params)\n",
        "            \n",
        "            qc.measure(QPOS_ISCHILD, cr[0])\n",
        "            qc.measure(QPOS_SEX, cr[1])\n",
        "            qc.measure(QPOS_NORM, cr[2])\n",
        "\n",
        "        return as_pqc(QUBITS, circuit, hist=False, cnt_classical=3, measure=True, shots=10000)\n",
        "    return qbn_titanic()\n",
        "    \n",
        "amp_mes = get_trained_qbn_amp(train, trained_params)\n",
        "print(\"{:.2f} of female children were favored by a norm \".format(amp_mes['111']/(amp_mes['111']+amp_mes['011'])))\n",
        "print(\"Considered {} samples \".format(amp_mes['111']+amp_mes['011']))\n",
        "print (\"Acceptance of {:.1f}% of the samples\".format((amp_mes['111']+amp_mes['011'])/100))"
      ],
      "execution_count": 29,
      "outputs": [
        {
          "output_type": "stream",
          "name": "stdout",
          "text": [
            "0.94 of female children were favored by a norm \n",
            "Considered 9792 samples \n",
            "Acceptance of 97.9% of the samples\n"
          ]
        }
      ]
    }
  ]
}
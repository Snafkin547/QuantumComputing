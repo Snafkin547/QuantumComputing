{
  "nbformat": 4,
  "nbformat_minor": 0,
  "metadata": {
    "colab": {
      "name": "QML-Ch4 Bayesian.ipynb",
      "provenance": [],
      "collapsed_sections": [],
      "authorship_tag": "ABX9TyNOtQP3X1qYodMLlWfgbVsR",
      "include_colab_link": true
    },
    "kernelspec": {
      "name": "python3",
      "display_name": "Python 3"
    },
    "language_info": {
      "name": "python"
    }
  },
  "cells": [
    {
      "cell_type": "markdown",
      "metadata": {
        "id": "view-in-github",
        "colab_type": "text"
      },
      "source": [
        "<a href=\"https://colab.research.google.com/github/Snafkin547/Quantum-ML/blob/main/QML_Ch4_Bayesian.ipynb\" target=\"_parent\"><img src=\"https://colab.research.google.com/assets/colab-badge.svg\" alt=\"Open In Colab\"/></a>"
      ]
    },
    {
      "cell_type": "code",
      "metadata": {
        "id": "6DKgEWK_SBeh"
      },
      "source": [
        "!pip install qiskit\n",
        "!pip install numpy scipy matplotlib ipython pandas sympy nose seaborn\n",
        "!pip install scikit-learn\n",
        "!pip install pylatexenc ipywidgets qutip\n",
        "!pip install kaggle"
      ],
      "execution_count": null,
      "outputs": []
    },
    {
      "cell_type": "code",
      "metadata": {
        "colab": {
          "base_uri": "https://localhost:8080/",
          "height": 69
        },
        "id": "WvADnVcWSD2B",
        "outputId": "ba784209-6fb5-47ea-995e-23df8a9dfc29"
      },
      "source": [
        "from google.colab import drive\n",
        "import os\n",
        "\n",
        "#Google Drive mounting to Google Colab\n",
        "drive.mount('/content/gdrive')\n",
        "os.environ['KAGGLE_CONFIG_DIR'] = \"/content/gdrive/My Drive/QML/Kaggle\"\n",
        "#Change the working directory\n",
        "%cd /content/gdrive/My Drive/QML/Kaggle/\n",
        "\n",
        "#Check if the directory was properly changed\n",
        "%pwd"
      ],
      "execution_count": 2,
      "outputs": [
        {
          "output_type": "stream",
          "name": "stdout",
          "text": [
            "Mounted at /content/gdrive\n",
            "/content/gdrive/My Drive/QML/Kaggle\n"
          ]
        },
        {
          "output_type": "execute_result",
          "data": {
            "application/vnd.google.colaboratory.intrinsic+json": {
              "type": "string"
            },
            "text/plain": [
              "'/content/gdrive/My Drive/QML/Kaggle'"
            ]
          },
          "metadata": {},
          "execution_count": 2
        }
      ]
    },
    {
      "cell_type": "code",
      "metadata": {
        "id": "R5xs1i7WSFTy"
      },
      "source": [
        "import pandas as pd\n",
        "\n",
        "train=pd.read_csv('train.csv')"
      ],
      "execution_count": 9,
      "outputs": []
    },
    {
      "cell_type": "code",
      "metadata": {
        "colab": {
          "base_uri": "https://localhost:8080/"
        },
        "id": "ru38OaNkSYzh",
        "outputId": "c1aff3e4-6784-45cf-8940-de8564856973"
      },
      "source": [
        "#Prob of survival\n",
        "\n",
        "survivors=train[train['Survived']==1]\n",
        "prob_survival=len(survivors)/len(train)\n",
        "\n",
        "print('P(Survival is {:.2f}'.format(prob_survival))\n"
      ],
      "execution_count": 12,
      "outputs": [
        {
          "output_type": "stream",
          "name": "stdout",
          "text": [
            "P(Survival is 0.38\n"
          ]
        }
      ]
    },
    {
      "cell_type": "code",
      "metadata": {
        "colab": {
          "base_uri": "https://localhost:8080/"
        },
        "id": "6_0pp8ldTFjh",
        "outputId": "ee2860f0-f1a1-4378-9f1b-05c84c1f1e24"
      },
      "source": [
        "#Prof for second class to survive\n",
        "\n",
        "secondclass=train[train['Pclass']==2]\n",
        "\n",
        "prob_survival_secondclass=len(secondclass[secondclass['Survived']==1])/len(secondclass)\n",
        "\n",
        "print('P(Survival|SecondClass) is {:.2f}'.format(prob_survival_secondclass))"
      ],
      "execution_count": 22,
      "outputs": [
        {
          "output_type": "stream",
          "name": "stdout",
          "text": [
            "P(Survival|SecondClass) is 0.47\n"
          ]
        }
      ]
    },
    {
      "cell_type": "code",
      "metadata": {
        "colab": {
          "base_uri": "https://localhost:8080/"
        },
        "id": "zqSRggxfTsdM",
        "outputId": "fb12e055-32eb-4c7a-cd27-d29fb9848d5a"
      },
      "source": [
        "#Prof of female survivors\n",
        "\n",
        "females=train[train['Sex']==\"female\"]\n",
        "\n",
        "prob_survival_females=len(females[females['Survived']==1])/len(females)\n",
        "\n",
        "print('P(Survival|females) is {:.2f}'.format(prob_survival_females))"
      ],
      "execution_count": 23,
      "outputs": [
        {
          "output_type": "stream",
          "name": "stdout",
          "text": [
            "P(Survival|females) is 0.74\n"
          ]
        }
      ]
    },
    {
      "cell_type": "code",
      "metadata": {
        "colab": {
          "base_uri": "https://localhost:8080/"
        },
        "id": "GE4YYJiPS7PH",
        "outputId": "3b3f52dc-b9e7-4a7d-9400-37857994093b"
      },
      "source": [
        "#Prof of female survivors in second class\n",
        "\n",
        "secondclass_females=secondclass[secondclass['Sex']==\"female\"]\n",
        "\n",
        "prob_survival_secondclass_females=len(secondclass_females[secondclass_females['Survived']==1])/len(secondclass_females)\n",
        "\n",
        "print('P(Survival|secondclass,females) is {:.2f}'.format(prob_survival_secondclass_females))"
      ],
      "execution_count": 24,
      "outputs": [
        {
          "output_type": "stream",
          "name": "stdout",
          "text": [
            "P(Survival|secondclass,females) is 0.92\n"
          ]
        }
      ]
    },
    {
      "cell_type": "markdown",
      "metadata": {
        "id": "dB0RBn-3V79-"
      },
      "source": [
        "### Beyesian approach"
      ]
    },
    {
      "cell_type": "code",
      "metadata": {
        "colab": {
          "base_uri": "https://localhost:8080/"
        },
        "id": "izvThBJ0V3dj",
        "outputId": "56b6befc-8fb2-4b24-bc2d-9c6244cd666e"
      },
      "source": [
        "#Survivors in second class\n",
        "p_surv_sec=len(survivors[survivors['Pclass']==2])/len(survivors)\n",
        "\n",
        "#Second Class ratio\n",
        "m_sec=p_surv_sec/(len(secondclass)/len(train))\n",
        "\n",
        "#Female survivor Ratio\n",
        "p_surv_female=len(survivors[survivors['Sex']==\"female\"])/len(survivors)\n",
        "\n",
        "m_female=p_surv_female/(len(females)/len(train))\n",
        "\n",
        "posterior=m_sec*m_female*prob_survival\n",
        "\n",
        "print('\\nP(Survived|SecondClass,Female) is {:.2f}'.format(posterior))"
      ],
      "execution_count": 29,
      "outputs": [
        {
          "output_type": "stream",
          "name": "stdout",
          "text": [
            "\n",
            "P(Survived|SecondClass,Female) is 0.91\n"
          ]
        }
      ]
    },
    {
      "cell_type": "markdown",
      "metadata": {
        "id": "d0KfM-FYjocH"
      },
      "source": [
        "### Gaussian Naive Bayes"
      ]
    },
    {
      "cell_type": "code",
      "metadata": {
        "colab": {
          "base_uri": "https://localhost:8080/",
          "height": 282
        },
        "id": "oDPK9JuoaxAb",
        "outputId": "6de6e9bf-c2cf-4beb-fa4d-d9df5d1b7cc8"
      },
      "source": [
        "train['Age'].hist(bins=80)"
      ],
      "execution_count": 40,
      "outputs": [
        {
          "output_type": "execute_result",
          "data": {
            "text/plain": [
              "<matplotlib.axes._subplots.AxesSubplot at 0x7f4242594510>"
            ]
          },
          "metadata": {},
          "execution_count": 40
        },
        {
          "output_type": "display_data",
          "data": {
            "image/png": "[encoded data removed]",
            "text/plain": [
              "<Figure size 432x288 with 1 Axes>"
            ]
          },
          "metadata": {
            "needs_background": "light"
          }
        }
      ]
    },
    {
      "cell_type": "code",
      "metadata": {
        "colab": {
          "base_uri": "https://localhost:8080/"
        },
        "id": "PqzYp8iqjxlc",
        "outputId": "b6000713-f1fc-48e6-9daa-01b981025d19"
      },
      "source": [
        "age_mean=train['Age'].mean()\n",
        "\n",
        "age_std=train['Age'].std()\n",
        "\n",
        "print('Mean is {:.1f}, Std is {:.1f}'.format(age_mean, age_std))"
      ],
      "execution_count": 43,
      "outputs": [
        {
          "output_type": "stream",
          "name": "stdout",
          "text": [
            "Mean is 29.7, Std is 14.5\n"
          ]
        }
      ]
    },
    {
      "cell_type": "code",
      "metadata": {
        "colab": {
          "base_uri": "https://localhost:8080/"
        },
        "id": "7lqMoiIbkGEe",
        "outputId": "86c18115-7b90-4b8c-fbd7-c223513b7cfe"
      },
      "source": [
        "from math import exp, pi, sqrt\n",
        "\n",
        "def density(mu, sigma, age):\n",
        "  return 1/(sigma*sqrt(2*pi))*exp(-0.5*((age-mu)/sigma)**2)\n",
        "\n",
        "survivor_age_mean=survivors[\"Age\"].mean()\n",
        "survivor_age_std=survivors[\"Age\"].std()\n",
        "\n",
        "p_surv_age29=density(survivor_age_mean, survivor_age_std, 29)\n",
        "p_age29=density(age_mean, age_std, 29)\n",
        "m_age29=p_surv_age29/p_age29\n",
        "i_age29=abs(m_age29-1)\n",
        "\n",
        "posterior=m_age29*prob_survival\n",
        "\n",
        "print('\\nP(Survived|age29) is {:.2f}'.format(posterior))"
      ],
      "execution_count": 44,
      "outputs": [
        {
          "output_type": "stream",
          "name": "stdout",
          "text": [
            "\n",
            "P(Survived|age29) is 0.37\n"
          ]
        }
      ]
    }
  ]
}
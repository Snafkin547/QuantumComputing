{
  "nbformat": 4,
  "nbformat_minor": 0,
  "metadata": {
    "colab": {
      "name": "QML-Ch10 Bayesian Inference.ipynb",
      "provenance": [],
      "collapsed_sections": [],
      "authorship_tag": "ABX9TyO16iXiSLfLlhxj/d4Abbw0",
      "include_colab_link": true
    },
    "kernelspec": {
      "name": "python3",
      "display_name": "Python 3"
    },
    "language_info": {
      "name": "python"
    }
  },
  "cells": [
    {
      "cell_type": "markdown",
      "metadata": {
        "id": "view-in-github",
        "colab_type": "text"
      },
      "source": [
        "<a href=\"https://colab.research.google.com/github/Snafkin547/Quantum-ML/blob/main/QML_Ch10_Bayesian_Inference.ipynb\" target=\"_parent\"><img src=\"https://colab.research.google.com/assets/colab-badge.svg\" alt=\"Open In Colab\"/></a>"
      ]
    },
    {
      "cell_type": "code",
      "metadata": {
        "id": "W9B2oeij7uSq"
      },
      "source": [
        "!pip install qiskit\n",
        "!pip install numpy scipy matplotlib ipython pandas sympy nose seaborn\n",
        "!pip install scikit-learn\n",
        "!pip install pylatexenc ipywidgets qutip\n",
        "!pip install kaggle\n",
        "\n",
        "from google.colab import drive\n",
        "import os\n",
        "\n",
        "#Google Drive mounting to Google Colab\n",
        "drive.mount('/content/gdrive')\n",
        "os.environ['KAGGLE_CONFIG_DIR'] = \"/content/gdrive/My Drive/QML/Kaggle\"\n",
        "#Change the working directory\n",
        "%cd /content/gdrive/My Drive/QML/Kaggle/\n",
        "\n",
        "#Check if the directory was properly changed\n",
        "%pwd\n",
        "\n",
        "import pandas as pd\n",
        "\n",
        "train=pd.read_csv('./train.csv')"
      ],
      "execution_count": null,
      "outputs": []
    },
    {
      "cell_type": "code",
      "metadata": {
        "id": "MRBaAIza7vNW"
      },
      "source": [
        "data = [\n",
        "(1, 1), (1, 1), (0, 0), (0, 0), (0, 0), (0, None), (0, 1), (1, 0)\n",
        "]"
      ],
      "execution_count": 3,
      "outputs": []
    },
    {
      "cell_type": "code",
      "metadata": {
        "id": "1JhxnRmZ2TBG"
      },
      "source": [
        "def ccry(qc, theta, control1, control2, controlled):\n",
        "  qc.cry(theta/2, control2, controlled)\n",
        "  qc.cx(control1, control2)\n",
        "  qc.cry(-theta/2, control2, controlled)\n",
        "  qc.cx(control1, control2)\n",
        "  qc.cry(theta/2, control1, controlled)"
      ],
      "execution_count": 30,
      "outputs": []
    },
    {
      "cell_type": "code",
      "metadata": {
        "id": "kHRhPDZp8GCI"
      },
      "source": [
        "from math import log\n",
        "\n",
        "def log_likelihood(data, prob_a_b, prob_a_nb, prob_na_b, prob_na_nb):\n",
        "  def get_prob(point):\n",
        "    if point[0] == 1 and point[1] == 1:\n",
        "      return log(prob_a_b)\n",
        "    elif point[0] == 1 and point[1] == 0:\n",
        "      return log(prob_a_nb)\n",
        "    elif point[0] == 0 and point[1] == 1:\n",
        "      return log(prob_na_b)\n",
        "    elif point[0] == 0 and point[1] == 0:\n",
        "      return log(prob_na_nb)\n",
        "    else:\n",
        "      return log(prob_na_b+prob_na_nb)\n",
        "  return sum(map(get_prob, data))"
      ],
      "execution_count": 4,
      "outputs": []
    },
    {
      "cell_type": "code",
      "metadata": {
        "id": "nKAhBKKX-1dl"
      },
      "source": [
        "from qiskit import QuantumCircuit, Aer, execute\n",
        "from qiskit import ClassicalRegister, QuantumCircuit, QuantumRegister\n",
        "from qiskit.visualization import plot_histogram\n",
        "import matplotlib.pyplot as plt\n",
        "from math import asin, sqrt, sin, cos, pi\n",
        "\n",
        "def prob_to_angle(prob):\n",
        "  return 2*asin(sqrt(prob))"
      ],
      "execution_count": 5,
      "outputs": []
    },
    {
      "cell_type": "code",
      "metadata": {
        "id": "OhbkFTKX_U4G"
      },
      "source": [
        "## Scaffold of PQC\n",
        "\n",
        "def as_pqc(cunt_quantum, with_qc, cnt_classical=1, shots=1, hist=False, measure=False):\n",
        "\n",
        "  qr=QuantumRegister(cunt_quantum)\n",
        "  cr=ClassicalRegister(cnt_classical)\n",
        "  qc=QuantumCircuit(qr, cr) if measure else QuantumCircuit(qr)\n",
        "\n",
        "  with_qc(qc, qr=qr, cr=cr)\n",
        "\n",
        "  results=executed(qc, Aer.get_backend('stevector_simulator') if measure is False else Aer.get_backend('qasm_simulator'), \n",
        "                  shots=shots).result().get_counts()\n",
        "  return plot_histogram(results, figsize=(12,4)) if hist else results\n",
        "              \n"
      ],
      "execution_count": 6,
      "outputs": []
    },
    {
      "cell_type": "code",
      "metadata": {
        "id": "S9x71LSrFM0W"
      },
      "source": [
        "def as_pqc(cnt_quantum, with_qc, cnt_classical=1, shots=1, hist=False, measure=False):\n",
        "# Prepare the circuit with qubits and a classical bit to hold the measurement\n",
        "\n",
        "  qr = QuantumRegister(cnt_quantum)\n",
        "  cr = ClassicalRegister(cnt_classical)\n",
        "  qc = QuantumCircuit(qr, cr) if measure else QuantumCircuit(qr)\n",
        "\n",
        "  with_qc(qc, qr=qr, cr=cr)\n",
        "\n",
        "  results = execute(qc,\n",
        "     Aer.get_backend('statevector_simulator') if measure is False else Aer.get_backend('qasm_simulator'),\n",
        "     shots=shots).result().get_counts()\n",
        "\n",
        "  return plot_histogram(results, figsize=(12,4)) if hist else results"
      ],
      "execution_count": 7,
      "outputs": []
    },
    {
      "cell_type": "code",
      "metadata": {
        "id": "CnF6MKFfAaKo"
      },
      "source": [
        "def qbn(data, hist=True):\n",
        "  def circuit(qc, qr=None, cr=None):\n",
        "    list_a=list(filter(lambda item: item[0]==1, data))\n",
        "    list_na=list(filter(lambda item: item[0]==0, data))\n",
        "\n",
        "    # set the marginal probability of A\n",
        "    qc.ry(prob_to_angle(len(list_a)/len(data)),0)\n",
        "\n",
        "    # set the conditional probability of Not A and (B/not B)\n",
        "    qc.x(0)\n",
        "    qc.cry(prob_to_angle(\n",
        "        sum(list(map(lambda item: item[1], list_na))) / len(list_na)\n",
        "    ),0,1)\n",
        "    qc.x(0)\n",
        "\n",
        "    # set the conditional probability of A and (B/notB)\n",
        "    qc.cry(prob_to_angle(\n",
        "        sum(list(map(lambda item: item[1], list_a)))/len(list_a)\n",
        "    ),0,1)\n",
        "\n",
        "  return as_pqc(2, circuit, hist=hist)\n"
      ],
      "execution_count": 8,
      "outputs": []
    },
    {
      "cell_type": "code",
      "metadata": {
        "colab": {
          "base_uri": "https://localhost:8080/",
          "height": 277
        },
        "id": "7G9Zsyo6Cfbi",
        "outputId": "2de788b9-5bda-413d-ea01-2018ad1821aa"
      },
      "source": [
        "qbn(list(filter(lambda item: item[1] is not None ,data)))"
      ],
      "execution_count": 9,
      "outputs": [
        {
          "output_type": "execute_result",
          "data": {
            "image/png": "[encoded data removed]",
            "text/plain": [
              "<Figure size 864x288 with 1 Axes>"
            ]
          },
          "metadata": {},
          "execution_count": 9
        }
      ]
    },
    {
      "cell_type": "code",
      "metadata": {
        "colab": {
          "base_uri": "https://localhost:8080/"
        },
        "id": "vqQa3oC3FltO",
        "outputId": "a3191d65-6974-4618-b328-aa497124a299"
      },
      "source": [
        "def eval_qbn(model, prepare_data, data):\n",
        "  results=model(prepare_data(data), hist=False)\n",
        "  return round(log_likelihood(data,\n",
        "                              results['11'], # prob_a_b\n",
        "                              results['01'], # prob_a_nb\n",
        "                              results['10'], # prob_na_b\n",
        "                              results['00'], # prob_na_nb\n",
        "                              ),3)\n",
        "\n",
        "eval_qbn(qbn, lambda dataset: list(filter(lambda item: item[1] is not None, dataset)), data)"
      ],
      "execution_count": 10,
      "outputs": [
        {
          "output_type": "execute_result",
          "data": {
            "text/plain": [
              "-9.499"
            ]
          },
          "metadata": {},
          "execution_count": 10
        }
      ]
    },
    {
      "cell_type": "code",
      "metadata": {
        "colab": {
          "base_uri": "https://localhost:8080/"
        },
        "id": "TZg-ASpJI7MZ",
        "outputId": "b8d93ec6-59fa-47b9-f2cb-c042561ca60b"
      },
      "source": [
        "eval_qbn(qbn, lambda dataset: list(map(lambda item: item if item[1] is not None else (item[0], 0) ,dataset)), data)"
      ],
      "execution_count": 11,
      "outputs": [
        {
          "output_type": "execute_result",
          "data": {
            "text/plain": [
              "-9.481"
            ]
          },
          "metadata": {},
          "execution_count": 11
        }
      ]
    },
    {
      "cell_type": "code",
      "metadata": {
        "id": "7YSWQeydQZpM"
      },
      "source": [
        "def eval_qbn(model, prepare_data, data):\n",
        "  results=model(prepare_data(data), hist=False)\n",
        "  return (round(log_likelihood(data,\n",
        "                              results['11'], # prob_a_b\n",
        "                              results['01'], # prob_a_nb\n",
        "                              results['10'], # prob_na_b\n",
        "                              results['00'], # prob_na_nb\n",
        "                              ),3), results['10']/(results['10']+results['00']))\n"
      ],
      "execution_count": 12,
      "outputs": []
    },
    {
      "cell_type": "code",
      "metadata": {
        "colab": {
          "base_uri": "https://localhost:8080/"
        },
        "id": "vkAblZ2RJtx1",
        "outputId": "02473324-a892-4239-839d-b5012ffafc69"
      },
      "source": [
        "eval_qbn(qbn, lambda dataset: list(map(lambda item: item if item[1] is not None else (item[0], 0.5) ,dataset)), data)"
      ],
      "execution_count": 13,
      "outputs": [
        {
          "output_type": "execute_result",
          "data": {
            "text/plain": [
              "(-9.476, 0.3)"
            ]
          },
          "metadata": {},
          "execution_count": 13
        }
      ]
    },
    {
      "cell_type": "code",
      "metadata": {
        "colab": {
          "base_uri": "https://localhost:8080/"
        },
        "id": "TCOTxjOBQIxQ",
        "outputId": "74ff6d48-7d33-4cf7-d8d9-8f999af5dbc4"
      },
      "source": [
        "eval_qbn(qbn, lambda dataset: list(map(lambda item: item if item[1] is not None else (item[0], 0.3) ,dataset)), data)"
      ],
      "execution_count": 14,
      "outputs": [
        {
          "output_type": "execute_result",
          "data": {
            "text/plain": [
              "(-9.452, 0.26)"
            ]
          },
          "metadata": {},
          "execution_count": 14
        }
      ]
    },
    {
      "cell_type": "code",
      "metadata": {
        "id": "J3eqGskoQLEZ"
      },
      "source": [
        "max_child_age=8\n",
        "\n",
        "population_child=train[train['Age']<=max_child_age]\n",
        "p_child=len(population_child)/len(train)\n",
        "\n",
        "population_female=train[train['Sex']==\"female\"]\n",
        "p_female=len(population_female)/len(train)\n",
        "\n",
        "QPOS_ISCHILD=0\n",
        "QPOS_SEX=1\n",
        "\n",
        "def apply_ischild_sex(qc):\n",
        "  qc.ry(prob_to_angle(p_child),QPOS_ISCHILD)\n",
        "  qc.ry(prob_to_angle(p_female),QPOS_SEX)"
      ],
      "execution_count": 16,
      "outputs": []
    },
    {
      "cell_type": "code",
      "metadata": {
        "id": "4I6ek9GJT37D"
      },
      "source": [
        "# Prob of being favored by a norm\n",
        "\n",
        "QPOS_NORM=2\n",
        "\n",
        "def apply_norm(qc, norm_params):\n",
        "  \"\"\"\n",
        "  norm_params={\n",
        "    'p_norm_am: 0.25,\n",
        "    'p_norm_af: 0.35,\n",
        "    'p_norm_cm: 0.45,\n",
        "    'p_norm_cf: 0.55\n",
        "  }\n",
        "  \"\"\"\n",
        "  # Set the conditional prob of Norm Given Adult/Male\n",
        "  qc.x(QPOS_ISCHILD)\n",
        "  qc.x(QPOS_SEX)\n",
        "  ccry(qc, prob_to_angle(norm_params['p_norm_am']),\n",
        "       QPOS_ISCHILD, QPOS_SEX, QPOS_NORM)\n",
        "  qc.x(QPOS_ISCHILD)\n",
        "  qc.x(QPOS_SEX)\n",
        "\n",
        "  # Set the conditional prob of Norm Given Adult/Male\n",
        "  qc.x(QPOS_ISCHILD)\n",
        "  ccry(qc, prob_to_angle(norm_params['p_norm_af']),\n",
        "       QPOS_ISCHILD, QPOS_SEX, QPOS_NORM)\n",
        "  qc.x(QPOS_ISCHILD)\n",
        " \n",
        "  # Set the conditional prob of Norm Given Child/Male\n",
        "  qc.x(QPOS_SEX)\n",
        "  ccry(qc, prob_to_angle(norm_params['p_norm_cm']),\n",
        "       QPOS_ISCHILD, QPOS_SEX, QPOS_NORM)\n",
        "  qc.x(QPOS_SEX) \n",
        "\n",
        "  # Set the conditional prob of Norm Given Adult/Male\n",
        "  ccry(qc, prob_to_angle(norm_params['p_norm_cf']),\n",
        "       QPOS_ISCHILD, QPOS_SEX, QPOS_NORM)\n",
        "\n"
      ],
      "execution_count": 32,
      "outputs": []
    },
    {
      "cell_type": "code",
      "metadata": {
        "colab": {
          "base_uri": "https://localhost:8080/"
        },
        "id": "xwVNd2OQwfAt",
        "outputId": "85015ac9-7de9-4823-e1fc-f6a60c8426e0"
      },
      "source": [
        "pop_first = train[train.Pclass.eq(1)]\n",
        "surv_first = round(len(pop_first[pop_first.Survived.eq(1)])/len(pop_first), 2)\n",
        "p_first = round(len(pop_first)/len(train), 2)\n",
        "pop_second = train[train.Pclass.eq(2)]\n",
        "surv_second = round(len(pop_second[pop_second.Survived.eq(1)])/len(pop_second), 2)\n",
        "p_second = round(len(pop_second)/len(train), 2)\n",
        "pop_third = train[train.Pclass.eq(3)]\n",
        "surv_third = round(len(pop_third[pop_third.Survived.eq(1)])/len(pop_third), 2)\n",
        "p_third = round(len(pop_third)/len(train), 2)\n",
        "print(\"First class: {} of the passengers, survived: {}\".format(p_first,surv_first))\n",
        "print(\"Second class: {} of the passengers, survived: {}\".format(p_second, surv_second))\n",
        "print(\"Third class: {} of the passengers, survived: {}\".format(p_third, surv_third))"
      ],
      "execution_count": 20,
      "outputs": [
        {
          "output_type": "stream",
          "name": "stdout",
          "text": [
            "First class: 0.24 of the passengers, survived: 0.63\n",
            "Second class: 0.21 of the passengers, survived: 0.47\n",
            "Third class: 0.55 of the passengers, survived: 0.24\n"
          ]
        }
      ]
    },
    {
      "cell_type": "code",
      "metadata": {
        "id": "8OJXpk05w87C"
      },
      "source": [
        "QPOS_FIRST=3\n",
        "QPOS_SECOND=4\n",
        "QPOS_THIRD=5\n",
        "\n",
        "def apply_class(qc):\n",
        "  # SET first calss\n",
        "  qc.ry(prob_to_angle(p_first),QPOS_FIRST)\n",
        "  \n",
        "  # SET SECOND given pass doesnt have a first calss tix\n",
        "  qc.x(QPOS_FIRST)\n",
        "  qc.cry(prob_to_angle(p_second/(1-p_first)), QPOS_FIRST, QPOS_SECOND)\n",
        "\n",
        "  # SET THIRD given pass doesnt have a first nor sec calss tix\n",
        "  qc.x(QPOS_SECOND)\n",
        "  ccry(qc, prob_to_angle(p_third/(1-p_first-p_second)), QPOS_FIRST, QPOS_SECOND, QPOS_THIRD)\n",
        "\n",
        "  # reverse \n",
        "  qc.x(QPOS_SECOND)\n",
        "  qc.x(QPOS_FIRST)"
      ],
      "execution_count": 41,
      "outputs": []
    },
    {
      "cell_type": "code",
      "metadata": {
        "id": "RxcVG4T_yqjG"
      },
      "source": [
        "QPOS_SURV=6\n",
        "\n",
        "\n",
        "def apply_survival(qc, surv_params):\n",
        "  \"\"\"\n",
        "  surv_params={\n",
        "    'p_surv_f1': 0.3,\n",
        "    'p_surv_f2': 0.4,\n",
        "    'p_surv_f3': 0.5,\n",
        "    'p_surv_u1': 0.6,\n",
        "    'p_surv_u2': 0.7,\n",
        "    'p_surv_u3': 0.8,\n",
        "  }\n",
        "  \"\"\"  \n",
        "  \n",
        "  #Prob of survival given unfavored by norm\n",
        "\n",
        "  qc.x(QPOS_NORM)\n",
        "\n",
        "  \"\"\"1st class\"\"\"\n",
        "  ccry(qc, prob_to_angle(surv_params['p_surv_u1']), QPOS_NORM, QPOS_FIRST, QPOS_SURV)\n",
        "\n",
        "  \"\"\"2nd class\"\"\"\n",
        "  ccry(qc, prob_to_angle(surv_params['p_surv_u2']), QPOS_NORM, QPOS_SECOND, QPOS_SURV)\n",
        "\n",
        "  \"\"\"3rd class\"\"\"\n",
        "  ccry(qc, prob_to_angle(surv_params['p_surv_u3']), QPOS_NORM, QPOS_THIRD, QPOS_SURV)\n",
        "\n",
        "  qc.x(QPOS_NORM)\n",
        "\n",
        "  #Prob of survival given favored by norm\n",
        "  \"\"\"1st class\"\"\"\n",
        "  ccry(qc, prob_to_angle(surv_params['p_surv_f1']), QPOS_NORM, QPOS_FIRST, QPOS_SURV)\n",
        "\n",
        "  \"\"\"2nd class\"\"\"\n",
        "  ccry(qc, prob_to_angle(surv_params['p_surv_f2']), QPOS_NORM, QPOS_SECOND, QPOS_SURV)\n",
        "\n",
        "  \"\"\"3rd class\"\"\"\n",
        "  ccry(qc, prob_to_angle(surv_params['p_surv_f3']), QPOS_NORM, QPOS_THIRD, QPOS_SURV)\n"
      ],
      "execution_count": 38,
      "outputs": []
    },
    {
      "cell_type": "code",
      "metadata": {
        "id": "9YhXrFNM0aYa"
      },
      "source": [
        "QUBITS=7\n",
        "\n",
        "def qbn_titanic(norm_params, surv_params, hist=True, measure=False, shots=1):\n",
        "  def circuit(qc, qr=None, cr=None):\n",
        "    apply_ischild_sex(qc)\n",
        "    apply_norm(qc, norm_params)\n",
        "    apply_class(qc)\n",
        "    apply_survival(qc, surv_params)\n",
        "  return as_pqc(QUBITS, circuit, hist=hist, measure=measure, shots=shots)"
      ],
      "execution_count": 39,
      "outputs": []
    },
    {
      "cell_type": "code",
      "metadata": {
        "colab": {
          "base_uri": "https://localhost:8080/",
          "height": 318
        },
        "id": "teSVPLDr1b31",
        "outputId": "b6450317-5535-404b-f70a-90582d74b3f3"
      },
      "source": [
        "norm_params = {\n",
        " 'p_norm_am': 0.25,\n",
        " 'p_norm_af': 0.35,\n",
        " 'p_norm_cm': 0.45,\n",
        " 'p_norm_cf': 0.55\n",
        " }\n",
        "\n",
        "surv_params = {\n",
        " 'p_surv_f1': 0.3,\n",
        " 'p_surv_f2': 0.4,\n",
        " 'p_surv_f3': 0.5,\n",
        " 'p_surv_u1': 0.6,\n",
        " 'p_surv_u2': 0.7,\n",
        " 'p_surv_u3': 0.8\n",
        " }\n",
        "\n",
        "qbn_titanic(norm_params, surv_params, hist=True)"
      ],
      "execution_count": 42,
      "outputs": [
        {
          "output_type": "execute_result",
          "data": {
            "image/png": "[encoded data removed]",
            "text/plain": [
              "<Figure size 864x288 with 1 Axes>"
            ]
          },
          "metadata": {},
          "execution_count": 42
        }
      ]
    },
    {
      "cell_type": "code",
      "metadata": {
        "id": "UBGbKKUi1hTa"
      },
      "source": [
        "def calculate_norm_params(passengers):\n",
        "  # Child/Adult\n",
        "  pop_children=passengers[passengers['IsChild']==1]\n",
        "  pop_adult=passengers[passengers['IsChild']==0]\n",
        "\n",
        "  # Child/Adult and gender\n",
        "\n",
        "  pop_am=pop_adult[pop_adult['Sex']=='male']\n",
        "  pop_af=pop_adult[pop_adult['Sex']=='female']\n",
        "  pop_cm=pop_children[pop_children['Sex']=='male']\n",
        "  pop_cf=pop_children[pop_children['Sex']=='female']\n",
        "  \n",
        "  norm_params={\n",
        "      'p_norm_am': pop_am.Norm.sum()/len(pop_am),\n",
        "      'p_norm_af': pop_af.Norm.sum()/len(pop_af),\n",
        "      'p_norm_cm': pop_cm.Norm.sum()/len(pop_cm),\n",
        "      'p_norm_cf': pop_cf.Norm.sum()/len(pop_cf),\n",
        "  }\n",
        "  return norm_params"
      ],
      "execution_count": 43,
      "outputs": []
    },
    {
      "cell_type": "code",
      "metadata": {
        "id": "CH5U_5RP4kw1"
      },
      "source": [
        "def calculate_surv_params(passengers):\n",
        "  # all survivors\n",
        "  survivors=passengers[passengers['Survived']==1]\n",
        "  \n",
        "  def weight_passenger(norm, pclass):\n",
        "    return lambda passenger: (passenger[0] if norm else 1-passenger[0])*(1 if passenger[1]==pclass else 0)\n",
        "  \n",
        "  # calculate the probability to surive\n",
        "  def calc_prob(norm, pclass):\n",
        "    return sum(list(map(weight_passenger(norm, pclass), \n",
        "                        list(zip(survivors['Norm'], survivors['Pclass']))\n",
        "                    )))/sum(list(map(weight_passenger(norm, pclass),\n",
        "                     list(zip(passengers['Norm'], passengers['Pclass']))\n",
        "                    )))\n",
        "  surv_params = {\n",
        "    'p_surv_f1': calc_prob(True, 1),\n",
        "    'p_surv_f2': calc_prob(True, 2),\n",
        "    'p_surv_f3': calc_prob(True, 3),\n",
        "    'p_surv_u1': calc_prob(False, 1),\n",
        "    'p_surv_u2': calc_prob(False, 2),\n",
        "    'p_surv_u3': calc_prob(False, 3)\n",
        "  }\n",
        "\n",
        "  return surv_params\n"
      ],
      "execution_count": 45,
      "outputs": []
    },
    {
      "cell_type": "code",
      "metadata": {
        "id": "V45YifPY8fOn"
      },
      "source": [
        "# Prepare norm\n",
        "def prepare_data(passengers, params):\n",
        "    \"\"\"\n",
        "    params = {\n",
        "        'p_norm_cms': 0.45,\n",
        "        'p_norm_cmd': 0.46,\n",
        "        'p_norm_cfs': 0.47,\n",
        "        'p_norm_cfd': 0.48,\n",
        "        'p_norm_ams': 0.49,\n",
        "        'p_norm_amd': 0.51,\n",
        "        'p_norm_afs': 0.52,\n",
        "        'p_norm_afd': 0.53,\n",
        "    }\n",
        "    \"\"\"\n",
        "    # is the passenger a child?\n",
        "    passengers['IsChild'] = passengers['Age'].map(lambda age: 0 if age > max_child_age else 1)\n",
        "\n",
        "    # the probability of favored by norm given Age, Sex, and Survival\n",
        "    passengers['Norm'] = list(map(\n",
        "        lambda item: params['p_norm_{}{}{}'.format(\n",
        "            'a' if item[0] == 0 else 'c',\n",
        "            item[1][0],\n",
        "            'd' if item[2] == 0 else 's'\n",
        "        )],\n",
        "        list(zip(passengers['IsChild'], passengers['Sex'], passengers['Survived']))\n",
        "    ))\n",
        "    return passengers"
      ],
      "execution_count": 46,
      "outputs": []
    },
    {
      "cell_type": "code",
      "metadata": {
        "id": "eiw7X67Fym_w"
      },
      "source": [
        "params = {\n",
        "    'p_norm_cms': 0.45,\n",
        "    'p_norm_cmd': 0.46,\n",
        "    'p_norm_cfs': 0.47,\n",
        "    'p_norm_cfd': 0.48,\n",
        "    'p_norm_ams': 0.49,\n",
        "    'p_norm_amd': 0.51,\n",
        "    'p_norm_afs': 0.52,\n",
        "    'p_norm_afd': 0.53,\n",
        "}\n",
        "\n",
        "passengers=prepare_data(train, params)\n",
        "results=qbn_titanic(calculate_norm_params(passengers), calculate_surv_params(passengers), hist=False)"
      ],
      "execution_count": 47,
      "outputs": []
    },
    {
      "cell_type": "code",
      "metadata": {
        "id": "6QaN5GJpAlXs"
      },
      "source": [
        "def filter_states(states, position, value):\n",
        "  return list(filter(lambda item: item[0][QUBITS-1-position] == str(value), states))"
      ],
      "execution_count": 50,
      "outputs": []
    },
    {
      "cell_type": "code",
      "metadata": {
        "colab": {
          "base_uri": "https://localhost:8080/"
        },
        "id": "5Ns9t0VCBCJ5",
        "outputId": "0c4c45b1-12e0-4d36-8bdf-2f910b801fbc"
      },
      "source": [
        "filter_states(results.items(), QPOS_SURV, '1')"
      ],
      "execution_count": 51,
      "outputs": [
        {
          "output_type": "execute_result",
          "data": {
            "text/plain": [
              "[('1001000', 0.04521802427481),\n",
              " ('1001001', 0.003204510969179),\n",
              " ('1001010', 0.023809598395179),\n",
              " ('1001011', 0.001694956632945),\n",
              " ('1001100', 0.046710931136364),\n",
              " ('1001101', 0.002724433421988),\n",
              " ('1001110', 0.026223030341536),\n",
              " ('1001111', 0.001531873108259),\n",
              " ('1010000', 0.029950610381473),\n",
              " ('1010001', 0.002122539872988),\n",
              " ('1010010', 0.015770525499731),\n",
              " ('1010011', 0.001122671468756),\n",
              " ('1010100', 0.030453061368568),\n",
              " ('1010101', 0.001776186776328),\n",
              " ('1010110', 0.017096031546221),\n",
              " ('1010111', 0.000998700403519),\n",
              " ('1100000', 0.040619362913079),\n",
              " ('1100001', 0.002878613033266),\n",
              " ('1100010', 0.021388168402732),\n",
              " ('1100011', 0.001522579982202),\n",
              " ('1100100', 0.040445280069615),\n",
              " ('1100101', 0.002358986860305),\n",
              " ('1100110', 0.022705559076552),\n",
              " ('1100111', 0.001326392674849)]"
            ]
          },
          "metadata": {},
          "execution_count": 51
        }
      ]
    },
    {
      "cell_type": "code",
      "metadata": {
        "colab": {
          "base_uri": "https://localhost:8080/"
        },
        "id": "JWUMZ9CdCJP9",
        "outputId": "d9dc3185-1d52-46e6-9160-08adcd2050be"
      },
      "source": [
        "def sum_states(states):\n",
        "  return sum(map(lambda item: item[1], states))\n",
        "print(\"Survival rate is {0:.2f}%.\".format(100*sum_states(filter_states(results.items(), QPOS_SURV, '1'))))"
      ],
      "execution_count": 62,
      "outputs": [
        {
          "output_type": "stream",
          "name": "stdout",
          "text": [
            "Survival rate is 38.37%.\n"
          ]
        }
      ]
    },
    {
      "cell_type": "code",
      "metadata": {
        "id": "YOkTjjAnCXEg"
      },
      "source": [
        "## Calculate log likelihood\n",
        "def log_likelihood_titanic(data, results):\n",
        "    states = results.items()\n",
        "    \n",
        "    def calc_prob(norm_val, ischild_val, sex_val, surv_val):\n",
        "        return sum_states(\n",
        "            filter_states(\n",
        "                filter_states(\n",
        "                    filter_states(\n",
        "                        filter_states(states, QPOS_SEX, sex_val),\n",
        "                        QPOS_ISCHILD, ischild_val\n",
        "                    ), QPOS_SURV, surv_val\n",
        "                ), QPOS_NORM, norm_val))\n",
        "        \n",
        "    probs = {\n",
        "        'p_fcms': calc_prob('1', '1', '0', '1'),\n",
        "        'p_fcmd': calc_prob('1', '1', '0', '0'),\n",
        "        'p_fcfs': calc_prob('1', '1', '1', '1'),\n",
        "        'p_fcfd': calc_prob('1', '1', '1', '0'),\n",
        "        'p_fams': calc_prob('1', '0', '0', '1'),\n",
        "        'p_famd': calc_prob('1', '0', '0', '0'),\n",
        "        'p_fafs': calc_prob('1', '0', '1', '1'),\n",
        "        'p_fafd': calc_prob('1', '0', '1', '0'),\n",
        "        'p_ucms': calc_prob('0', '1', '0', '1'),\n",
        "        'p_ucmd': calc_prob('0', '1', '0', '0'),\n",
        "        'p_ucfs': calc_prob('0', '1', '1', '1'),\n",
        "        'p_ucfd': calc_prob('0', '1', '1', '0'),\n",
        "        'p_uams': calc_prob('0', '0', '0', '1'),\n",
        "        'p_uamd': calc_prob('0', '0', '0', '0'),\n",
        "        'p_uafs': calc_prob('0', '0', '1', '1'),\n",
        "        'p_uafd': calc_prob('0', '0', '1', '0'),\n",
        "    }\n",
        "\n",
        "    return round(sum(map(\n",
        "        lambda item: log(probs['p_{}{}{}{}'.format(\n",
        "                'u',\n",
        "                'a' if item[1] == 0 else 'c',\n",
        "                item[2][0],\n",
        "                'd' if item[3] == 0 else 's'\n",
        "            )] + probs['p_{}{}{}{}'.format(\n",
        "                'f',\n",
        "                'a' if item[1] == 0 else 'c',\n",
        "                item[2][0],\n",
        "                'd' if item[3] == 0 else 's'\n",
        "            )]\n",
        "        ),\n",
        "        list(zip(data['Norm'], data['IsChild'], data['Sex'], data['Survived']))\n",
        "    )), 3)"
      ],
      "execution_count": 63,
      "outputs": []
    },
    {
      "cell_type": "code",
      "metadata": {
        "colab": {
          "base_uri": "https://localhost:8080/"
        },
        "id": "o9Wpw5F9Db8V",
        "outputId": "c818428c-e3ca-4578-a759-7dfbd54d435f"
      },
      "source": [
        "log_likelihood_titanic(train, results)"
      ],
      "execution_count": 64,
      "outputs": [
        {
          "output_type": "execute_result",
          "data": {
            "text/plain": [
              "-1860.391"
            ]
          },
          "metadata": {},
          "execution_count": 64
        }
      ]
    },
    {
      "cell_type": "code",
      "metadata": {
        "colab": {
          "base_uri": "https://localhost:8080/"
        },
        "id": "sTB5JT9qEXR7",
        "outputId": "463eab67-d386-4325-9e52-36116ce77c01"
      },
      "source": [
        "def to_params(results):\n",
        "  states=results.items()\n",
        "\n",
        "  def calc_norm(ischild_val, sex_val, surv_val):\n",
        "    pop=filter_states(filter_states(filter_states(states, QPOS_SEX, sex_val), QPOS_ISCHILD, ischild_val), QPOS_SURV, surv_val)\n",
        "\n",
        "    p_norm=sum(map(lambda item: item[1], filter_states(pop, QPOS_NORM, '1')))\n",
        "    p_total=sum(map(lambda item: item[1], pop))\n",
        "    return p_norm/p_total\n",
        "    \n",
        "  return {\n",
        "        'p_norm_cms': calc_norm('1', '0', '1'),\n",
        "        'p_norm_cmd': calc_norm('1', '0', '0'),\n",
        "        'p_norm_cfs': calc_norm('1', '1', '1'),\n",
        "        'p_norm_cfd': calc_norm('1', '1', '0'),\n",
        "        'p_norm_ams': calc_norm('0', '0', '1'),\n",
        "        'p_norm_amd': calc_norm('0', '0', '0'),\n",
        "        'p_norm_afs': calc_norm('0', '1', '1'),\n",
        "        'p_norm_afd': calc_norm('0', '1', '0'),\n",
        "    }\n",
        "to_params(results)"
      ],
      "execution_count": 66,
      "outputs": [
        {
          "output_type": "execute_result",
          "data": {
            "text/plain": [
              "{'p_norm_afd': 0.5239923091774149,\n",
              " 'p_norm_afs': 0.5199079166576689,\n",
              " 'p_norm_amd': 0.5079933634215902,\n",
              " 'p_norm_ams': 0.5039016630401505,\n",
              " 'p_norm_cfd': 0.47460383062928546,\n",
              " 'p_norm_cfs': 0.47052387314654737,\n",
              " 'p_norm_cmd': 0.4593883474337892,\n",
              " 'p_norm_cms': 0.45532583440735436}"
            ]
          },
          "metadata": {},
          "execution_count": 66
        }
      ]
    },
    {
      "cell_type": "code",
      "metadata": {
        "id": "pGVNIE7wFeg1"
      },
      "source": [
        "def train_qbn_titanic(passengers, params, iterations):\n",
        "  if iterations>0:\n",
        "     #iterating \n",
        "      new_params=train_qbn_titanic(passengers, params, iterations-1)\n",
        "\n",
        "      passengers=prepare_data(passengers, new_params)\n",
        "      results=qbn_titanic(calculate_norm_params(passengers),\n",
        "                          calculate_surv_params(passengers), hist=False)\n",
        "      \n",
        "      print ('The log−likelihood after {} iteration(s) is {}'.format(iterations, log_likelihood_titanic(passengers, results)))\n",
        "      return to_params(results)\n",
        "  return params"
      ],
      "execution_count": 70,
      "outputs": []
    },
    {
      "cell_type": "code",
      "metadata": {
        "colab": {
          "base_uri": "https://localhost:8080/"
        },
        "id": "zb5fnzeEGuXA",
        "outputId": "d187527f-4f2a-4738-cfa4-59641774b814"
      },
      "source": [
        "trained_params = train_qbn_titanic(train, {\n",
        "    'p_norm_cms': 0.45,\n",
        "    'p_norm_cmd': 0.46,\n",
        "    'p_norm_cfs': 0.47,\n",
        "    'p_norm_cfd': 0.48,\n",
        "    'p_norm_ams': 0.49,\n",
        "    'p_norm_amd': 0.51,\n",
        "    'p_norm_afs': 0.52,\n",
        "    'p_norm_afd': 0.53,\n",
        "}, 25)"
      ],
      "execution_count": 71,
      "outputs": [
        {
          "output_type": "stream",
          "name": "stdout",
          "text": [
            "The log−likelihood after 1 iteration(s) is -1860.391\n",
            "The log−likelihood after 2 iteration(s) is -1860.355\n",
            "The log−likelihood after 3 iteration(s) is -1860.332\n",
            "The log−likelihood after 4 iteration(s) is -1860.3\n",
            "The log−likelihood after 5 iteration(s) is -1860.243\n",
            "The log−likelihood after 6 iteration(s) is -1860.13\n",
            "The log−likelihood after 7 iteration(s) is -1859.901\n",
            "The log−likelihood after 8 iteration(s) is -1859.426\n",
            "The log−likelihood after 9 iteration(s) is -1858.439\n",
            "The log−likelihood after 10 iteration(s) is -1856.393\n",
            "The log−likelihood after 11 iteration(s) is -1852.213\n",
            "The log−likelihood after 12 iteration(s) is -1843.99\n",
            "The log−likelihood after 13 iteration(s) is -1829.057\n",
            "The log−likelihood after 14 iteration(s) is -1805.719\n",
            "The log−likelihood after 15 iteration(s) is -1777.24\n",
            "The log−likelihood after 16 iteration(s) is -1752.49\n",
            "The log−likelihood after 17 iteration(s) is -1737.602\n",
            "The log−likelihood after 18 iteration(s) is -1730.95\n",
            "The log−likelihood after 19 iteration(s) is -1728.411\n",
            "The log−likelihood after 20 iteration(s) is -1727.468\n",
            "The log−likelihood after 21 iteration(s) is -1727.107\n",
            "The log−likelihood after 22 iteration(s) is -1726.965\n",
            "The log−likelihood after 23 iteration(s) is -1726.908\n",
            "The log−likelihood after 24 iteration(s) is -1726.884\n",
            "The log−likelihood after 25 iteration(s) is -1726.872\n"
          ]
        }
      ]
    },
    {
      "cell_type": "code",
      "metadata": {
        "colab": {
          "base_uri": "https://localhost:8080/"
        },
        "id": "Z1LxMZRBKQju",
        "outputId": "e824b06f-1e36-46e5-a9c0-0d81103a6d8a"
      },
      "source": [
        "trained_params"
      ],
      "execution_count": 72,
      "outputs": [
        {
          "output_type": "execute_result",
          "data": {
            "text/plain": [
              "{'p_norm_afd': 0.9590619707415071,\n",
              " 'p_norm_afs': 0.9978526500251851,\n",
              " 'p_norm_amd': 0.046546425010374065,\n",
              " 'p_norm_ams': 0.491959274240783,\n",
              " 'p_norm_cfd': 0.8392179490424748,\n",
              " 'p_norm_cfs': 0.9904336919724537,\n",
              " 'p_norm_cmd': 0.07088902981523437,\n",
              " 'p_norm_cms': 0.6021334301302408}"
            ]
          },
          "metadata": {},
          "execution_count": 72
        }
      ]
    },
    {
      "cell_type": "markdown",
      "metadata": {
        "id": "G-bJPQL6KxbM"
      },
      "source": [
        "### Predict Survival"
      ]
    },
    {
      "cell_type": "code",
      "metadata": {
        "id": "XTtwQ15XKeus"
      },
      "source": [
        "def pre_process(passenger):\n",
        "  return (passenger['IsChild']==1, passenger['Sex']=='female', passenger['Pclass'])"
      ],
      "execution_count": 73,
      "outputs": []
    },
    {
      "cell_type": "code",
      "metadata": {
        "id": "nMbjaAdpK8P1"
      },
      "source": [
        "def apply_known(qc, is_child, is_female, pclass):\n",
        "  if is_child:\n",
        "    qc.x(QPOS_ISCHILD)\n",
        "  if is_female:\n",
        "    qc.x(QPOS_SEX)\n",
        "  \n",
        "  qc.x(QPOS_FIRST if pclass==1 else (QPOS_SECOND if pclass == 2 else QPOS_THIRD))"
      ],
      "execution_count": 74,
      "outputs": []
    },
    {
      "cell_type": "code",
      "metadata": {
        "id": "e2B6mad5LSI5"
      },
      "source": [
        "def get_trained_qbn(passengers, params):\n",
        "  prepared_passengers=prepare_data(passengers, params)\n",
        "  norm_params=calculate_norm_params(prepared_passengers)\n",
        "  surv_params=calculate_surv_params(prepared_passengers)\n",
        "\n",
        "  def trained_qbn_titanic(passenger):\n",
        "    (is_child, is_female, pclass) = passenger\n",
        "\n",
        "    def circuit(qc, qr, cr):\n",
        "      apply_known(qc, is_child, is_female, pclass)\n",
        "      apply_norm(qc, norm_params)\n",
        "      apply_survival(qc, surv_params)\n",
        "      qc.measure(qr[QPOS_SURV], cr[0])\n",
        "    return as_pqc(QUBITS, circuit, hist=False, measure=True, shots=100)\n",
        "    \n",
        "  return trained_qbn_titanic"
      ],
      "execution_count": 79,
      "outputs": []
    },
    {
      "cell_type": "code",
      "metadata": {
        "id": "urabYzwlNxIt"
      },
      "source": [
        "from sklearn.metrics import confusion_matrix\n",
        "from sklearn.metrics import precision_score\n",
        "from sklearn.metrics import recall_score\n",
        "\n",
        "\n",
        "#Ratio of True Negatives amongst all actual negatives\n",
        "def specificity(matrix):\n",
        "    return matrix[0][0]/(matrix[0][0]+matrix[0][1]) if (matrix[0][0]+matrix[0][1] > 0) else 0\n",
        "\n",
        "## Negative Predictive Value\n",
        "def npv(matrix):\n",
        "    return matrix[0][0]/(matrix[0][0]+matrix[1][0]) if (matrix[0][0]+matrix[1][0] > 0) else 0\n",
        "\n",
        "def classifier_report(name, run, classify, input, labels):\n",
        "  cr_predictions=run(classify, input)\n",
        "  cr_cm=confusion_matrix(labels, cr_predictions)\n",
        "  \n",
        "  cr_precision=precision_score(labels, cr_predictions)\n",
        "  cr_recall=recall_score(labels, cr_predictions)\n",
        "  cr_specificity=specificity(cr_cm)\n",
        "  cr_npv=npv(cr_cm)\n",
        "  cr_level=0.25*(cr_precision+cr_recall+cr_specificity+cr_npv)\n",
        "\n",
        "  print('The precision score of the {} classifier is {:.2f}'.format(name, cr_precision))\n",
        "  print('The recall score of the {} classifier is {:.2f}'.format(name, cr_recall))\n",
        "  print('The specificity score of the {} classifier is {:.2f}'.format(name, cr_specificity))\n",
        "  print('The npv score of the {} classifier is {:.2f}'.format(name, cr_npv))\n",
        "  print('The information level is: {:.2f}'.format(cr_level))"
      ],
      "execution_count": 77,
      "outputs": []
    },
    {
      "cell_type": "code",
      "metadata": {
        "id": "mhd55q4TM9sC"
      },
      "source": [
        "def post_process(counts):\n",
        "  p_surv=counts['1'] if '1' in counts.keys() else 0\n",
        "  p_died=counts['0'] if '0' in counts.keys() else 0\n",
        "\n",
        "  return 1 if p_surv > p_died else 0"
      ],
      "execution_count": 76,
      "outputs": []
    },
    {
      "cell_type": "code",
      "metadata": {
        "colab": {
          "base_uri": "https://localhost:8080/"
        },
        "id": "sKIicA22NUyO",
        "outputId": "420cc097-df64-4ac1-b8a5-443420e0d4f1"
      },
      "source": [
        "def run(f_classify, data):\n",
        "  return [f_classify(data.iloc[i]) for i in range(0, len(data))]\n",
        "\n",
        "trained_qbn = get_trained_qbn(train, trained_params)\n",
        "\n",
        "classifier_report(\"QBN\",\n",
        "                  run,\n",
        "                  lambda passenger: post_process(trained_qbn(pre_process(passenger))),\n",
        "                  passengers,\n",
        "                  train['Survived'])"
      ],
      "execution_count": 81,
      "outputs": [
        {
          "output_type": "stream",
          "name": "stdout",
          "text": [
            "The precision score of the QBN classifier is 0.77\n",
            "The recall score of the QBN classifier is 0.59\n",
            "The specificity score of the QBN classifier is 0.89\n",
            "The npv score of the QBN classifier is 0.78\n",
            "The information level is: 0.76\n"
          ]
        }
      ]
    },
    {
      "cell_type": "code",
      "metadata": {
        "id": "0XKHP-wBN6iG"
      },
      "source": [
        ""
      ],
      "execution_count": null,
      "outputs": []
    }
  ]
}
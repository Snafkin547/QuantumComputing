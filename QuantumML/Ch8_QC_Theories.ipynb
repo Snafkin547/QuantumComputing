{
  "nbformat": 4,
  "nbformat_minor": 0,
  "metadata": {
    "colab": {
      "name": "QML-Ch8 QC Theories.ipynb",
      "provenance": [],
      "collapsed_sections": [],
      "authorship_tag": "ABX9TyNxcoW1YOKc/G/y6Q7HJMOv",
      "include_colab_link": true
    },
    "kernelspec": {
      "name": "python3",
      "display_name": "Python 3"
    },
    "language_info": {
      "name": "python"
    }
  },
  "cells": [
    {
      "cell_type": "markdown",
      "metadata": {
        "id": "view-in-github",
        "colab_type": "text"
      },
      "source": [
        "<a href=\"https://colab.research.google.com/github/Snafkin547/Quantum-ML/blob/main/QML_Ch8_QC_Theories.ipynb\" target=\"_parent\"><img src=\"https://colab.research.google.com/assets/colab-badge.svg\" alt=\"Open In Colab\"/></a>"
      ]
    },
    {
      "cell_type": "code",
      "metadata": {
        "id": "C8vFcA3InSd0"
      },
      "source": [
        "!pip install qiskit\n",
        "!pip install numpy scipy matplotlib ipython pandas sympy nose seaborn\n",
        "!pip install scikit-learn\n",
        "!pip install pylatexenc ipywidgets qutip\n",
        "!pip install kaggle"
      ],
      "execution_count": null,
      "outputs": []
    },
    {
      "cell_type": "code",
      "metadata": {
        "id": "qFfXjWYendz4"
      },
      "source": [
        "from functools import reduce\n",
        "from qiskit import QuantumCircuit, Aer, execute, ClassicalRegister, QuantumRegister\n",
        "from math import asin, sqrt, ceil\n",
        "from qiskit.visualization import plot_histogram\n",
        "import matplotlib.pyplot as plt\n",
        "\n",
        "# Oracle=f(x)\n",
        "\n",
        "def solve(oracle):\n",
        "\n",
        "  qr=QuantumRegister(2)\n",
        "  cr=ClassicalRegister(1)\n",
        "  qc=QuantumCircuit(qr, cr)\n",
        "  \n",
        "  qc.x(1)\n",
        "  qc.h(0)\n",
        "  qc.h(1)\n",
        "\n",
        "  oracle(qc)\n",
        "\n",
        "  qc.h(0)\n",
        "  qc.measure(qr[0], cr[0])\n",
        "\n",
        "  backend=Aer.get_backend('qasm_simulator')\n",
        "\n",
        "  results=execute(qc, backend, shots=1000).result().get_counts()\n",
        "  return plot_histogram(results, figsize=(3,2), color=['white'])\n"
      ],
      "execution_count": 3,
      "outputs": []
    },
    {
      "cell_type": "code",
      "metadata": {
        "colab": {
          "base_uri": "https://localhost:8080/",
          "height": 160
        },
        "id": "9YWAnaKXpATH",
        "outputId": "0a59e7fc-17a8-4ca5-e3a4-7b92a191ee17"
      },
      "source": [
        "# oracle:f0 = always 0\n",
        "def o_0(qc):\n",
        "  pass\n",
        "\n",
        "solve(o_0)\n"
      ],
      "execution_count": 7,
      "outputs": [
        {
          "output_type": "execute_result",
          "data": {
            "image/png": "[encoded data removed]",
            "text/plain": [
              "<Figure size 216x144 with 1 Axes>"
            ]
          },
          "metadata": {},
          "execution_count": 7
        }
      ]
    },
    {
      "cell_type": "code",
      "metadata": {
        "colab": {
          "base_uri": "https://localhost:8080/",
          "height": 160
        },
        "id": "A0xVRr9kpKt8",
        "outputId": "6e20e88c-1144-463d-e996-c64cb6d66f33"
      },
      "source": [
        "# oracle:f1 = 1 for 1, 0 for 0\n",
        "def o_1(qc):\n",
        "  qc.cx(0,1)\n",
        "\n",
        "solve(o_1)\n"
      ],
      "execution_count": 9,
      "outputs": [
        {
          "output_type": "execute_result",
          "data": {
            "image/png": "[encoded data removed]",
            "text/plain": [
              "<Figure size 216x144 with 1 Axes>"
            ]
          },
          "metadata": {},
          "execution_count": 9
        }
      ]
    },
    {
      "cell_type": "code",
      "metadata": {
        "colab": {
          "base_uri": "https://localhost:8080/",
          "height": 160
        },
        "id": "Zg4vQK2Qp4ym",
        "outputId": "f20edd58-3160-4572-9b95-3e3ac6706a10"
      },
      "source": [
        "# oracle:f2 = 1 for 0, 0 for 1\n",
        "def o_2(qc):\n",
        "  qc.x(0)\n",
        "  qc.cx(0,1)\n",
        "  qc.x(0)\n",
        "\n",
        "solve(o_2)\n"
      ],
      "execution_count": 10,
      "outputs": [
        {
          "output_type": "execute_result",
          "data": {
            "image/png": "[encoded data removed]",
            "text/plain": [
              "<Figure size 216x144 with 1 Axes>"
            ]
          },
          "metadata": {},
          "execution_count": 10
        }
      ]
    },
    {
      "cell_type": "code",
      "metadata": {
        "colab": {
          "base_uri": "https://localhost:8080/",
          "height": 160
        },
        "id": "vYfdW6cMnYms",
        "outputId": "5683be98-d314-42a3-b0ec-d1dd71cbfbba"
      },
      "source": [
        "# oracle:f3 = always 1\n",
        "def o_3(qc):\n",
        "    qc.x(1)\n",
        "\n",
        "solve(o_3)\n"
      ],
      "execution_count": 11,
      "outputs": [
        {
          "output_type": "execute_result",
          "data": {
            "image/png": "[encoded data removed]",
            "text/plain": [
              "<Figure size 216x144 with 1 Axes>"
            ]
          },
          "metadata": {},
          "execution_count": 11
        }
      ]
    },
    {
      "cell_type": "code",
      "metadata": {
        "id": "kTrQ_BlSuNTL"
      },
      "source": [
        "from functools import reduce\n",
        "from qiskit import QuantumCircuit, Aer, execute, ClassicalRegister, QuantumRegister\n",
        "from math import asin, sqrt, ceil\n",
        "from qiskit.visualization import plot_histogram\n",
        "import matplotlib.pyplot as plt\n",
        "\n",
        "def run_with_oracle(oracle):\n",
        "\n",
        "  qc=QuantumCircuit(1)\n",
        "  \n",
        "  qc.h(0)\n",
        "\n",
        "  oracle(qc)\n",
        "\n",
        "  qc.h(0)\n",
        "\n",
        "  backend=Aer.get_backend('statevector_simulator')\n",
        "\n",
        "  results=execute(qc, backend).result().get_counts()\n",
        "  return results\n"
      ],
      "execution_count": 12,
      "outputs": []
    },
    {
      "cell_type": "code",
      "metadata": {
        "colab": {
          "base_uri": "https://localhost:8080/",
          "height": 323
        },
        "id": "uy0QIJX3uelf",
        "outputId": "354afad7-e096-4c41-c5dd-db1fcf2721d6"
      },
      "source": [
        "plot_histogram(run_with_oracle(lambda qc: qc.i(0)))"
      ],
      "execution_count": 13,
      "outputs": [
        {
          "output_type": "execute_result",
          "data": {
            "image/png": "[encoded data removed]",
            "text/plain": [
              "<Figure size 504x360 with 1 Axes>"
            ]
          },
          "metadata": {},
          "execution_count": 13
        }
      ]
    },
    {
      "cell_type": "code",
      "metadata": {
        "colab": {
          "base_uri": "https://localhost:8080/",
          "height": 323
        },
        "id": "v9xXC2wouhh5",
        "outputId": "27f5cc96-c422-4e7c-bda7-655fa00d6514"
      },
      "source": [
        "from math import pi\n",
        "plot_histogram(run_with_oracle(lambda qc: qc.ry(pi,0)))"
      ],
      "execution_count": 14,
      "outputs": [
        {
          "output_type": "execute_result",
          "data": {
            "image/png": "[encoded data removed]",
            "text/plain": [
              "<Figure size 504x360 with 1 Axes>"
            ]
          },
          "metadata": {},
          "execution_count": 14
        }
      ]
    },
    {
      "cell_type": "code",
      "metadata": {
        "id": "nnxpPFncutxD"
      },
      "source": [
        ""
      ],
      "execution_count": null,
      "outputs": []
    }
  ]
}
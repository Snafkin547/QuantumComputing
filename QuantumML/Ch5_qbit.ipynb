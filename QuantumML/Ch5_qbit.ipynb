{
  "nbformat": 4,
  "nbformat_minor": 0,
  "metadata": {
    "colab": {
      "name": "QML-Ch5 qbit.ipynb",
      "provenance": [],
      "collapsed_sections": [],
      "authorship_tag": "ABX9TyPaRM8iED/LkF9XhoGK8uqZ",
      "include_colab_link": true
    },
    "kernelspec": {
      "name": "python3",
      "display_name": "Python 3"
    },
    "language_info": {
      "name": "python"
    }
  },
  "cells": [
    {
      "cell_type": "markdown",
      "metadata": {
        "id": "view-in-github",
        "colab_type": "text"
      },
      "source": [
        "<a href=\"https://colab.research.google.com/github/Snafkin547/Quantum-ML/blob/main/QML_Ch5_qbit.ipynb\" target=\"_parent\"><img src=\"https://colab.research.google.com/assets/colab-badge.svg\" alt=\"Open In Colab\"/></a>"
      ]
    },
    {
      "cell_type": "code",
      "metadata": {
        "id": "LxwKpNL7NsRk"
      },
      "source": [
        "!pip install qiskit\n",
        "!pip install numpy scipy matplotlib ipython pandas sympy nose seaborn\n",
        "!pip install scikit-learn\n",
        "!pip install pylatexenc ipywidgets qutip\n",
        "!pip install kaggle\n",
        "\n",
        "from google.colab import drive\n",
        "import os\n",
        "\n",
        "#Google Drive mounting to Google Colab\n",
        "drive.mount('/content/gdrive')\n",
        "os.environ['KAGGLE_CONFIG_DIR'] = \"/content/gdrive/My Drive/QML/Kaggle\"\n",
        "#Change the working directory\n",
        "%cd /content/gdrive/My Drive/QML/Kaggle/\n",
        "\n",
        "#Check if the directory was properly changed\n",
        "%pwd"
      ],
      "execution_count": null,
      "outputs": []
    },
    {
      "cell_type": "code",
      "metadata": {
        "colab": {
          "base_uri": "https://localhost:8080/"
        },
        "id": "fNwjPq6UNyNA",
        "outputId": "7774da0f-5f10-48ae-9fb9-e48b452c98f9"
      },
      "source": [
        "from math import sqrt\n",
        "\n",
        "#initial state\n",
        "\n",
        "psi=[0.5, sqrt(3)/2]\n",
        "always_0=[1,0]\n",
        "always_1=[0,1]\n",
        "\n",
        "def transform(name, state, f):\n",
        "  print('{}:[{:.2f},{:.2f}] result: [{:.2f},{:.2f}]'.format(name, *state, *f(state)))\n",
        "\n",
        "def reverse_state(arr):\n",
        "  return list(reversed(arr))\n",
        "\n",
        "print(\"−−−−−−−−−−− Reversed states: −−−−−−−−−−\")\n",
        "transform(\"psi\", psi, reverse_state)\n",
        "transform(\"|0>\", always_0, reverse_state)\n",
        "transform(\"|1>\", always_1, reverse_state)\n"
      ],
      "execution_count": null,
      "outputs": [
        {
          "output_type": "stream",
          "name": "stdout",
          "text": [
            "−−−−−−−−−−− Reversed states: −−−−−−−−−−\n",
            "psi:[0.50,0.87] result: [0.87,0.50]\n",
            "|0>:[1.00,0.00] result: [0.00,1.00]\n",
            "|1>:[0.00,1.00] result: [1.00,0.00]\n"
          ]
        }
      ]
    },
    {
      "cell_type": "markdown",
      "metadata": {
        "id": "1ssay6wOVaSs"
      },
      "source": [
        "#### X Gate"
      ]
    },
    {
      "cell_type": "code",
      "metadata": {
        "colab": {
          "base_uri": "https://localhost:8080/",
          "height": 323
        },
        "id": "z9fCANC4OrQL",
        "outputId": "4611c490-67e2-45b6-a378-0ce3ffc23caf"
      },
      "source": [
        "from qiskit import execute, Aer, QuantumCircuit\n",
        "from qiskit.visualization import plot_histogram\n",
        "\n",
        "qc=QuantumCircuit(1)\n",
        "qc.initialize(psi,0)\n",
        "\n",
        "# X gate from IBM SDK Qiskit, which reverses the state\n",
        "qc.x(0)\n",
        "\n",
        "# Return result\n",
        "backend=Aer.get_backend('statevector_simulator')\n",
        "result=execute(qc, backend).result()\n",
        "\n",
        "#Counter for the result of measurement\n",
        "counts=result.get_counts()\n",
        "\n",
        "plot_histogram(counts)"
      ],
      "execution_count": null,
      "outputs": [
        {
          "output_type": "execute_result",
          "data": {
            "image/png": "[encoded data removed]",
            "text/plain": [
              "<Figure size 504x360 with 1 Axes>"
            ]
          },
          "metadata": {},
          "execution_count": 17
        }
      ]
    },
    {
      "cell_type": "code",
      "metadata": {
        "colab": {
          "base_uri": "https://localhost:8080/",
          "height": 95
        },
        "id": "vjnPDCX8QhEe",
        "outputId": "af39a8d0-84c9-4403-aa9c-08710fb2e319"
      },
      "source": [
        "qc.draw('mpl')"
      ],
      "execution_count": null,
      "outputs": [
        {
          "output_type": "execute_result",
          "data": {
            "image/png": "[encoded data removed]",
            "text/plain": [
              "<Figure size 253.926x84.28 with 1 Axes>"
            ]
          },
          "metadata": {},
          "execution_count": 6
        }
      ]
    },
    {
      "cell_type": "code",
      "metadata": {
        "colab": {
          "base_uri": "https://localhost:8080/"
        },
        "id": "xgGHtssuQjmH",
        "outputId": "13cd711b-9110-4f35-88e7-d196e1fd700e"
      },
      "source": [
        "#Self-made X gate\n",
        "def adjust_weight(state, weights):\n",
        "  return state[0]*weights[0]+state[1]*weights[1]\n",
        "\n",
        "print ('reversed psi: [{:.2f}, {:.2f}]'.format(\n",
        "adjust_weight(psi, [0,1]),\n",
        "adjust_weight(psi, [1,0])))"
      ],
      "execution_count": null,
      "outputs": [
        {
          "output_type": "stream",
          "name": "stdout",
          "text": [
            "reversed psi: [0.87, 0.50]\n"
          ]
        }
      ]
    },
    {
      "cell_type": "markdown",
      "metadata": {
        "id": "klvGlyDTVc_s"
      },
      "source": [
        "#### Hadamard Gate"
      ]
    },
    {
      "cell_type": "code",
      "metadata": {
        "colab": {
          "base_uri": "https://localhost:8080/",
          "height": 328
        },
        "id": "Ev2gHnEjQEyk",
        "outputId": "cb5385d2-2f90-42ea-b097-6503940b2cfe"
      },
      "source": [
        "from qiskit import execute, Aer, QuantumCircuit\n",
        "from qiskit.visualization import plot_histogram\n",
        "\n",
        "qc=QuantumCircuit(1)\n",
        "\n",
        "initial_state=[1,0]\n",
        "qc.initialize(initial_state,0)\n",
        "\n",
        "# X gate from IBM SDK Qiskit, which reverses the state\n",
        "qc.h(0)\n",
        "\n",
        "# Return result\n",
        "backend=Aer.get_backend('statevector_simulator')\n",
        "result=execute(qc, backend).result()\n",
        "\n",
        "#Counter for the result of measurement\n",
        "counts=result.get_counts()\n",
        "\n",
        "plot_histogram(counts)\n"
      ],
      "execution_count": null,
      "outputs": [
        {
          "output_type": "execute_result",
          "data": {
            "image/png": "[encoded data removed]",
            "text/plain": [
              "<Figure size 504x360 with 1 Axes>"
            ]
          },
          "metadata": {},
          "execution_count": 13
        }
      ]
    },
    {
      "cell_type": "code",
      "metadata": {
        "colab": {
          "base_uri": "https://localhost:8080/",
          "height": 95
        },
        "id": "4vfH-J5kVKs9",
        "outputId": "d1e1d459-4212-4608-a2c1-ac57fe98c430"
      },
      "source": [
        "qc.draw('mpl')"
      ],
      "execution_count": null,
      "outputs": [
        {
          "output_type": "execute_result",
          "data": {
            "image/png": "[encoded data removed]",
            "text/plain": [
              "<Figure size 253.926x84.28 with 1 Axes>"
            ]
          },
          "metadata": {},
          "execution_count": 12
        }
      ]
    },
    {
      "cell_type": "markdown",
      "metadata": {
        "id": "klnkoIzbVggQ"
      },
      "source": [
        "#### Hadamard Gate twice"
      ]
    },
    {
      "cell_type": "code",
      "metadata": {
        "colab": {
          "base_uri": "https://localhost:8080/",
          "height": 323
        },
        "id": "zKlQPlvDVJVW",
        "outputId": "2de8a7c5-a2cf-4ef1-d2f6-f0a4d3ab204a"
      },
      "source": [
        "from qiskit import execute, Aer, QuantumCircuit\n",
        "from qiskit.visualization import plot_histogram\n",
        "\n",
        "qc=QuantumCircuit(1)\n",
        "\n",
        "initial_state=[1,0]\n",
        "qc.initialize(initial_state,0)\n",
        "\n",
        "# X gate from IBM SDK Qiskit, which reverses the state\n",
        "qc.h(0)\n",
        "\n",
        "# X gate from IBM SDK Qiskit, which reverses the state again\n",
        "qc.h(0)\n",
        "\n",
        "# Return result\n",
        "backend=Aer.get_backend('statevector_simulator')\n",
        "result=execute(qc, backend).result()\n",
        "\n",
        "#Counter for the result of measurement\n",
        "counts=result.get_counts()\n",
        "\n",
        "plot_histogram(counts)\n"
      ],
      "execution_count": null,
      "outputs": [
        {
          "output_type": "execute_result",
          "data": {
            "image/png": "[encoded data removed]",
            "text/plain": [
              "<Figure size 504x360 with 1 Axes>"
            ]
          },
          "metadata": {},
          "execution_count": 14
        }
      ]
    },
    {
      "cell_type": "code",
      "metadata": {
        "colab": {
          "base_uri": "https://localhost:8080/",
          "height": 95
        },
        "id": "gT3UqhmYVjYN",
        "outputId": "be26e0cb-34fe-4d44-b3bc-0c20a92cccc0"
      },
      "source": [
        "qc.draw('mpl')"
      ],
      "execution_count": null,
      "outputs": [
        {
          "output_type": "execute_result",
          "data": {
            "image/png": "[encoded data removed]",
            "text/plain": [
              "<Figure size 253.926x84.28 with 1 Axes>"
            ]
          },
          "metadata": {},
          "execution_count": 15
        }
      ]
    },
    {
      "cell_type": "markdown",
      "metadata": {
        "id": "DpdEyk5ipcir"
      },
      "source": [
        "#### Rotate the qubit state"
      ]
    },
    {
      "cell_type": "code",
      "metadata": {
        "colab": {
          "base_uri": "https://localhost:8080/",
          "height": 323
        },
        "id": "VgPf05S6VnBT",
        "outputId": "bd9a7023-2040-470b-f11e-03c8f3c6acc3"
      },
      "source": [
        "from qiskit import execute, Aer, QuantumCircuit\n",
        "from qiskit.visualization import plot_histogram\n",
        "from math import pi, sqrt, sin, cos\n",
        "\n",
        "qc=QuantumCircuit(1)\n",
        "\n",
        "initial_state=[1,0]\n",
        "qc.initialize(initial_state,0)\n",
        "\n",
        "# rotate the 0th qubit in the initial state by a quarter of a half circle\n",
        "qc.ry(pi/4,0)\n",
        "\n",
        "# Return result\n",
        "backend=Aer.get_backend('statevector_simulator')\n",
        "result=execute(qc, backend).result()\n",
        "\n",
        "#Counter for the result of measurement\n",
        "counts=result.get_counts()\n",
        "\n",
        "plot_histogram(counts)"
      ],
      "execution_count": null,
      "outputs": [
        {
          "output_type": "execute_result",
          "data": {
            "image/png": "[encoded data removed]",
            "text/plain": [
              "<Figure size 504x360 with 1 Axes>"
            ]
          },
          "metadata": {},
          "execution_count": 19
        }
      ]
    },
    {
      "cell_type": "markdown",
      "metadata": {
        "id": "-oStQE_xqwFz"
      },
      "source": [
        "### Rotate function to make a certain probability"
      ]
    },
    {
      "cell_type": "code",
      "metadata": {
        "colab": {
          "base_uri": "https://localhost:8080/",
          "height": 35
        },
        "id": "fGFYsHKIp8d-",
        "outputId": "533ebfc2-c946-444f-bbcf-ddf866afb148"
      },
      "source": [
        "from math import asin\n",
        "\n",
        "def prob_to_angle(prob):\n",
        "  return 2*asin(sqrt(prob))\n",
        "\n",
        "'''\n",
        "sin(theta/2)= sqrt(P(pi))\n",
        "theta/2=sin^(-1)*sqrt(P(po))\n",
        "theta=2*sin^(-1)*sqrt(P(po))\n",
        "'''"
      ],
      "execution_count": 23,
      "outputs": [
        {
          "output_type": "execute_result",
          "data": {
            "application/vnd.google.colaboratory.intrinsic+json": {
              "type": "string"
            },
            "text/plain": [
              "'\\nsin(theta/2)= sqrt(P(pi))\\ntheta/2=sin^(-1)*sqrt(P(po))\\ntheta=2*sin^(-1)*sqrt(P(po))\\n'"
            ]
          },
          "metadata": {},
          "execution_count": 23
        }
      ]
    },
    {
      "cell_type": "code",
      "metadata": {
        "colab": {
          "base_uri": "https://localhost:8080/",
          "height": 323
        },
        "id": "H21Tt1AOp0MQ",
        "outputId": "609cde95-09e1-46d0-c6a1-2ae56c3b87bd"
      },
      "source": [
        "from qiskit import execute, Aer, QuantumCircuit\n",
        "from qiskit.visualization import plot_histogram\n",
        "from math import pi, sqrt, sin, cos\n",
        "\n",
        "qc=QuantumCircuit(1)\n",
        "\n",
        "initial_state=[1,0]\n",
        "qc.initialize(initial_state,0)\n",
        "\n",
        "# Making prob to receive 1 by 60% of chance\n",
        "qc.ry(prob_to_angle(0.6),0)\n",
        "\n",
        "# Return result\n",
        "backend=Aer.get_backend('statevector_simulator')\n",
        "result=execute(qc, backend).result()\n",
        "\n",
        "#Counter for the result of measurement\n",
        "counts=result.get_counts()\n",
        "\n",
        "plot_histogram(counts)"
      ],
      "execution_count": null,
      "outputs": [
        {
          "output_type": "execute_result",
          "data": {
            "image/png": "[encoded data removed]",
            "text/plain": [
              "<Figure size 504x360 with 1 Axes>"
            ]
          },
          "metadata": {},
          "execution_count": 21
        }
      ]
    },
    {
      "cell_type": "code",
      "metadata": {
        "id": "tXePw6u1rWfM",
        "colab": {
          "base_uri": "https://localhost:8080/",
          "height": 323
        },
        "outputId": "f5bb5de2-be6d-4dce-fc9a-ea577bf93267"
      },
      "source": [
        "from qiskit import execute, Aer, QuantumCircuit\n",
        "from qiskit.visualization import plot_histogram\n",
        "from math import pi, sqrt, sin, cos\n",
        "\n",
        "qc=QuantumCircuit(1)\n",
        "\n",
        "initial_state=[1/sqrt(2),1/sqrt(2)]\n",
        "qc.initialize(initial_state,0)\n",
        "\n",
        "# Making prob to receive 1 by 60% of chance\n",
        "qc.ry(prob_to_angle(0.1),0)\n",
        "\n",
        "# Return result\n",
        "backend=Aer.get_backend('statevector_simulator')\n",
        "result=execute(qc, backend).result()\n",
        "\n",
        "#Counter for the result of measurement\n",
        "counts=result.get_counts()\n",
        "\n",
        "plot_histogram(counts)\n",
        "\n"
      ],
      "execution_count": 26,
      "outputs": [
        {
          "output_type": "execute_result",
          "data": {
            "image/png": "[encoded data removed]",
            "text/plain": [
              "<Figure size 504x360 with 1 Axes>"
            ]
          },
          "metadata": {},
          "execution_count": 26
        }
      ]
    },
    {
      "cell_type": "markdown",
      "metadata": {
        "id": "LSPncmsfypJU"
      },
      "source": [
        "Adjustment for proper probabilities"
      ]
    },
    {
      "cell_type": "code",
      "metadata": {
        "colab": {
          "base_uri": "https://localhost:8080/",
          "height": 35
        },
        "id": "6qZ09Zm4yngg",
        "outputId": "99334c2e-2bcc-416f-de91-f95b71af1515"
      },
      "source": [
        "from math import asin\n",
        "\n",
        "def prob_to_angle_with_prior(prob, prior):\n",
        "  return 2*asin(sqrt(prob+prior))-2*asin(sqrt(prior))\n",
        "\n",
        "'''\n",
        "Calculate based on the total angle\n",
        "'''"
      ],
      "execution_count": 27,
      "outputs": [
        {
          "output_type": "execute_result",
          "data": {
            "application/vnd.google.colaboratory.intrinsic+json": {
              "type": "string"
            },
            "text/plain": [
              "'\\nCalculate based on the total angle\\n'"
            ]
          },
          "metadata": {},
          "execution_count": 27
        }
      ]
    },
    {
      "cell_type": "code",
      "metadata": {
        "colab": {
          "base_uri": "https://localhost:8080/",
          "height": 328
        },
        "id": "bkpQ69GA1E-S",
        "outputId": "fae565f4-be19-47bc-f326-4b504b020e41"
      },
      "source": [
        "##50:50\n",
        "\n",
        "from qiskit import execute, Aer, QuantumCircuit\n",
        "from qiskit.visualization import plot_histogram\n",
        "from math import pi, sqrt, sin, cos\n",
        "\n",
        "qc=QuantumCircuit(1)\n",
        "\n",
        "initial_state=[1/sqrt(2),1/sqrt(2)]\n",
        "qc.initialize(initial_state,0)\n",
        "\n",
        "\n",
        "# Return result\n",
        "backend=Aer.get_backend('statevector_simulator')\n",
        "result=execute(qc, backend).result()\n",
        "\n",
        "#Counter for the result of measurement\n",
        "counts=result.get_counts()\n",
        "\n",
        "plot_histogram(counts)"
      ],
      "execution_count": 29,
      "outputs": [
        {
          "output_type": "execute_result",
          "data": {
            "image/png": "[encoded data removed]",
            "text/plain": [
              "<Figure size 504x360 with 1 Axes>"
            ]
          },
          "metadata": {},
          "execution_count": 29
        }
      ]
    },
    {
      "cell_type": "markdown",
      "metadata": {
        "id": "cqb1ne9D1MpA"
      },
      "source": [
        "### Rotate the state by 10 degree"
      ]
    },
    {
      "cell_type": "code",
      "metadata": {
        "colab": {
          "base_uri": "https://localhost:8080/",
          "height": 323
        },
        "id": "-hYgT2pKyjq4",
        "outputId": "b08f4f6c-815e-4e05-b77a-edf781c70047"
      },
      "source": [
        "from qiskit import execute, Aer, QuantumCircuit\n",
        "from qiskit.visualization import plot_histogram\n",
        "from math import pi, sqrt, sin, cos\n",
        "\n",
        "qc=QuantumCircuit(1)\n",
        "\n",
        "initial_state=[1/sqrt(2),1/sqrt(2)]\n",
        "qc.initialize(initial_state,0)\n",
        "\n",
        "# Making prob to receive 1 by 60% of chance\n",
        "qc.ry(prob_to_angle_with_prior(0.1, 0.5),0)\n",
        "\n",
        "# Return result\n",
        "backend=Aer.get_backend('statevector_simulator')\n",
        "result=execute(qc, backend).result()\n",
        "\n",
        "#Counter for the result of measurement\n",
        "counts=result.get_counts()\n",
        "\n",
        "plot_histogram(counts)"
      ],
      "execution_count": 28,
      "outputs": [
        {
          "output_type": "execute_result",
          "data": {
            "image/png": "[encoded data removed]",
            "text/plain": [
              "<Figure size 504x360 with 1 Axes>"
            ]
          },
          "metadata": {},
          "execution_count": 28
        }
      ]
    }
  ]
}
{
  "nbformat": 4,
  "nbformat_minor": 0,
  "metadata": {
    "colab": {
      "name": "QML-Ch7 Naive Bayes.ipynb",
      "provenance": [],
      "collapsed_sections": [],
      "toc_visible": true,
      "authorship_tag": "ABX9TyNyquVlaqjXv/mg7Wp6Sw8c",
      "include_colab_link": true
    },
    "kernelspec": {
      "name": "python3",
      "display_name": "Python 3"
    },
    "language_info": {
      "name": "python"
    }
  },
  "cells": [
    {
      "cell_type": "markdown",
      "metadata": {
        "id": "view-in-github",
        "colab_type": "text"
      },
      "source": [
        "<a href=\"https://colab.research.google.com/github/Snafkin547/Quantum-ML/blob/main/QML_Ch7_Naive_Bayes.ipynb\" target=\"_parent\"><img src=\"https://colab.research.google.com/assets/colab-badge.svg\" alt=\"Open In Colab\"/></a>"
      ]
    },
    {
      "cell_type": "code",
      "metadata": {
        "id": "zWU7mvKv7hvj"
      },
      "source": [
        "!pip install qiskit\n",
        "!pip install numpy scipy matplotlib ipython pandas sympy nose seaborn\n",
        "!pip install scikit-learn\n",
        "!pip install pylatexenc ipywidgets qutip\n",
        "!pip install kaggle\n",
        "\n",
        "from google.colab import drive\n",
        "import os\n",
        "\n",
        "#Google Drive mounting to Google Colab\n",
        "drive.mount('/content/gdrive')\n",
        "os.environ['KAGGLE_CONFIG_DIR'] = \"/content/gdrive/My Drive/QML/Kaggle\"\n",
        "#Change the working directory\n",
        "%cd /content/gdrive/My Drive/QML/Kaggle/\n",
        "\n",
        "#Check if the directory was properly changed\n",
        "%pwd"
      ],
      "execution_count": null,
      "outputs": []
    },
    {
      "cell_type": "code",
      "metadata": {
        "id": "65Vk_rxb7mk2",
        "colab": {
          "base_uri": "https://localhost:8080/"
        },
        "outputId": "e89b2d6b-2e61-47eb-8e69-07a5262e32f0"
      },
      "source": [
        "import pandas as pd\n",
        "\n",
        "train=pd.read_csv('./train.csv')\n",
        "\n",
        "# total length\n",
        "cnt_all=len(train)\n",
        "\n",
        "#list of all survivors\n",
        "survivors=train[train['Survived']==1]\n",
        "\n",
        "cnt_survivors=len(survivors)\n",
        "\n",
        "# calculate the priority probability \n",
        "prob_survival=len(survivors)/cnt_all\n",
        "\n",
        "print(\"The prior probability to survive is: \", round(prob_survival,2))\n"
      ],
      "execution_count": 45,
      "outputs": [
        {
          "output_type": "stream",
          "name": "stdout",
          "text": [
            "The prior probability to survive is:  0.38\n"
          ]
        }
      ]
    },
    {
      "cell_type": "code",
      "metadata": {
        "id": "dOgDOTqEC5QH"
      },
      "source": [
        "# modifier = class\n",
        "def get_modifier_pclass(pclass):\n",
        "  cnt_surv_pclass=len(survivors[survivors['Pclass']==pclass])\n",
        "\n",
        "  # Probability of the prior(B|A)\n",
        "  p_cl_surv=cnt_surv_pclass/cnt_survivors\n",
        "\n",
        "  # Probability of the evidence(A)\n",
        "  p_cl=len(train[train['Pclass']==pclass])/cnt_all\n",
        "\n",
        "  return p_cl_surv/p_cl         \n",
        "           \n",
        "# modifier = sex\n",
        "def get_modifier_sex(sex):\n",
        "  cnt_surv_sex=len(survivors[survivors['Sex']==sex])\n",
        "\n",
        "  # Probability of the prior(B|A)\n",
        "  p_sex_surv=cnt_surv_sex/cnt_survivors\n",
        "\n",
        "  # Probability of the evidence(A)\n",
        "  p_sex=len(train[train['Sex']==sex])/cnt_all\n",
        "\n",
        "  return p_sex_surv/p_sex"
      ],
      "execution_count": 46,
      "outputs": []
    },
    {
      "cell_type": "code",
      "metadata": {
        "id": "FiBArbCyDX3_"
      },
      "source": [
        "def pre_process(passenger):\n",
        "  return [\n",
        "          get_modifier_pclass(passenger[\"Pclass\"]),\n",
        "          get_modifier_sex(passenger[\"Sex\"]),\n",
        "  ]"
      ],
      "execution_count": 47,
      "outputs": []
    },
    {
      "cell_type": "code",
      "metadata": {
        "colab": {
          "base_uri": "https://localhost:8080/"
        },
        "id": "-J-kxesCH1u4",
        "outputId": "48f3a600-e7e3-4727-8cc3-47277bd8d657"
      },
      "source": [
        "#Modifier example\n",
        "\n",
        "# a female passenger with 1st class ticket\n",
        "print (pre_process(train.iloc[52]))\n",
        "# a male passenger with 3rd class ticket\n",
        "print (pre_process(train.iloc[26]))"
      ],
      "execution_count": 48,
      "outputs": [
        {
          "output_type": "stream",
          "name": "stdout",
          "text": [
            "[1.6403508771929822, 1.9332048273550118]\n",
            "[0.6314181584306999, 0.49215543190732464]\n"
          ]
        }
      ]
    },
    {
      "cell_type": "markdown",
      "metadata": {
        "id": "2eZtjt8JYPt3"
      },
      "source": [
        "### PQC\n"
      ]
    },
    {
      "cell_type": "code",
      "metadata": {
        "id": "Mo4uMnK6IBq2",
        "colab": {
          "base_uri": "https://localhost:8080/",
          "height": 318
        },
        "outputId": "febedf1c-36ed-4e6f-a42b-a6dfe4ebaf23"
      },
      "source": [
        "from functools import reduce\n",
        "from qiskit import QuantumCircuit, Aer, execute, ClassicalRegister, QuantumRegister\n",
        "from math import asin, sqrt, ceil\n",
        "from qiskit.visualization import plot_histogram\n",
        "import matplotlib.pyplot as plt\n",
        "\n",
        "def prob_to_angle(prob):\n",
        "  return 2*asin(sqrt(prob))\n",
        "\n",
        "def pqc(backend, prior, modifiers, shots=1, hist=False, measure=False):\n",
        "  qr=QuantumRegister(7)\n",
        "  cr=ClassicalRegister(1)\n",
        "  qc=QuantumCircuit(qr, cr) if measure else QuantumCircuit(qr)\n",
        "\n",
        "### INSERT QC as necessary\n",
        "\n",
        "  # We set our target qubit to use\n",
        "  target=6\n",
        "\n",
        "  # Apply prior to qubit to the target qubit\n",
        "  qc.ry(prob_to_angle(prior), target)\n",
        "\n",
        "  # auxiliary qubit to hold the whole prior\n",
        "  aux_full=5\n",
        "\n",
        "  # Work with the remainder\n",
        "  qc.x(target)\n",
        "\n",
        "  # Apply prior to full aux qubit\n",
        "  qc.cry(prob_to_angle(prior/(1-prior)), target, aux_full)\n",
        "\n",
        "  ##  Measure he qubit if True\n",
        "  if measure:\n",
        "    qc.measure(qr[0], cr[0])\n",
        "\n",
        "  results=execute(qc, backend, shots=shots).result().get_counts()\n",
        "  return plot_histogram(results, figsize=(12,4)) if hist else results\n",
        "backend=Aer.get_backend('statevector_simulator')\n",
        "pqc(backend, prior=0.38, modifiers=1, shots=1, hist=True, measure=False)"
      ],
      "execution_count": 49,
      "outputs": [
        {
          "output_type": "execute_result",
          "data": {
            "image/png": "[encoded data removed]",
            "text/plain": [
              "<Figure size 864x288 with 1 Axes>"
            ]
          },
          "metadata": {},
          "execution_count": 49
        }
      ]
    },
    {
      "cell_type": "code",
      "metadata": {
        "colab": {
          "base_uri": "https://localhost:8080/",
          "height": 318
        },
        "id": "_FyLkPNf5WPR",
        "outputId": "cd81022d-284f-4958-bc22-85ef1cc23850"
      },
      "source": [
        "from functools import reduce\n",
        "from qiskit import QuantumCircuit, Aer, execute, ClassicalRegister, QuantumRegister\n",
        "from math import asin, sqrt, ceil\n",
        "from qiskit.visualization import plot_histogram\n",
        "import matplotlib.pyplot as plt\n",
        "\n",
        "def prob_to_angle(prob):\n",
        "  return 2*asin(sqrt(prob))\n",
        "\n",
        "def pqc(backend, prior, modifiers, shots=1, hist=False, measure=False):\n",
        "  qr=QuantumRegister(7)\n",
        "  cr=ClassicalRegister(1)\n",
        "  qc=QuantumCircuit(qr, cr) if measure else QuantumCircuit(qr)\n",
        "\n",
        "### INSERT QC as necessary\n",
        "\n",
        "  # We set our target qubit to use\n",
        "  target=6\n",
        "\n",
        "  # Apply prior to qubit to the target qubit\n",
        "  qc.ry(prob_to_angle(prior), target)\n",
        "\n",
        "  # auxiliary qubit to hold the whole prior\n",
        "  aux_full=5\n",
        "\n",
        "  # Work with the remainder\n",
        "  qc.x(target)\n",
        "\n",
        "  # Apply prior to full aux qubit\n",
        "  qc.cry(prob_to_angle(prior/(1-prior)), target, aux_full)\n",
        "\n",
        "\n",
        "## Added Lines\n",
        "  # second auxiliary qubit to hold the whole prior\n",
        "  aux_half=4\n",
        "\n",
        "  # Work with the remainder (Step CX)\n",
        "  qc.cx(aux_full, target)\n",
        "\n",
        "  # Apply 0.5 prior to half aux qubit to make 100000 to be 0.50 and leave the remainder in 1010000\n",
        "  qc.cry(prob_to_angle(0.5*prior/(1-2*prior)), target, aux_half)\n",
        "\n",
        "  # Reverse Step CX\n",
        "  qc.x(target)\n",
        "  qc.cx(aux_full, target)\n",
        "\n",
        "  ##  Measure he qubit if True\n",
        "  if measure:\n",
        "    qc.measure(qr[0], cr[0])\n",
        "\n",
        "  results=execute(qc, backend, shots=shots).result().get_counts()\n",
        "  return plot_histogram(results, figsize=(12,4)) if hist else results\n",
        "backend=Aer.get_backend('statevector_simulator')\n",
        "pqc(backend, prior=0.38, modifiers=1, shots=1, hist=True, measure=False)"
      ],
      "execution_count": 50,
      "outputs": [
        {
          "output_type": "execute_result",
          "data": {
            "image/png": "[encoded data removed]",
            "text/plain": [
              "<Figure size 864x288 with 1 Axes>"
            ]
          },
          "metadata": {},
          "execution_count": 50
        }
      ]
    },
    {
      "cell_type": "markdown",
      "metadata": {
        "id": "2mZsnsaI_tMW"
      },
      "source": [
        "Limit max modifiers as prior+aux_half=1.5prior"
      ]
    },
    {
      "cell_type": "code",
      "metadata": {
        "colab": {
          "base_uri": "https://localhost:8080/",
          "height": 318
        },
        "id": "_sB_spMg7wwz",
        "outputId": "f0a1baf6-9bce-42d0-9409-7501f3f21db5"
      },
      "source": [
        "from functools import reduce\n",
        "from qiskit import QuantumCircuit, Aer, execute, ClassicalRegister, QuantumRegister\n",
        "from math import asin, sqrt, ceil\n",
        "from qiskit.visualization import plot_histogram\n",
        "import matplotlib.pyplot as plt\n",
        "\n",
        "def prob_to_angle(prob):\n",
        "  return 2*asin(sqrt(prob))\n",
        "\n",
        "def pqc(backend, prior, modifiers, shots=1, hist=False, measure=False):\n",
        "  qr=QuantumRegister(7)\n",
        "  cr=ClassicalRegister(1)\n",
        "  qc=QuantumCircuit(qr, cr) if measure else QuantumCircuit(qr)\n",
        "\n",
        "### INSERT QC as necessary\n",
        "\n",
        "  # We set our target qubit to use\n",
        "  target=6\n",
        "\n",
        "  # Apply prior to qubit to the target qubit\n",
        "  qc.ry(prob_to_angle(prior), target)\n",
        "\n",
        "  # auxiliary qubit to hold the whole prior\n",
        "  aux_full=5\n",
        "\n",
        "  # Work with the remainder\n",
        "  qc.x(target)\n",
        "\n",
        "  # Apply prior to full aux qubit\n",
        "  qc.cry(prob_to_angle(prior/(1-prior)), target, aux_full)\n",
        "\n",
        "\n",
        "## Added Lines\n",
        "  # second auxiliary qubit to hold the whole prior\n",
        "  aux_half=4\n",
        "\n",
        "  # Work with the remainder (Step CX)\n",
        "  qc.cx(aux_full, target)\n",
        "\n",
        "  # Apply 0.5 prior to half aux qubit to make 100000 to be 0.50 and leave the remainder in 1010000\n",
        "  qc.cry(prob_to_angle(0.5*prior/(1-2*prior)), target, aux_half)\n",
        "\n",
        "  # Reverse Step CX\n",
        "  qc.x(target)\n",
        "  qc.cx(aux_full, target)\n",
        "  \n",
        "  # sort the modifiers\n",
        "  sorted_modifiers=sorted(modifiers)\n",
        "\n",
        "  for step in range(0, len(modifiers)):\n",
        "    if sorted_modifiers[step]>1:\n",
        "      # Just implement as usual\n",
        "      pass\n",
        "\n",
        "    else: \n",
        "      # Apply modifiers to the target qubit\n",
        "      qc.cry(prob_to_angle(1-sorted_modifiers[step]), target, step*2)\n",
        "      # Reverse above\n",
        "      qc.cx(step*2,target)\n",
        "\n",
        "  ##  Measure he qubit if True\n",
        "  if measure:\n",
        "    qc.measure(qr[0], cr[0])\n",
        "\n",
        "  results=execute(qc, backend, shots=shots).result().get_counts()\n",
        "  return plot_histogram(results, figsize=(12,4)) if hist else results\n",
        "\n",
        "backend=Aer.get_backend('statevector_simulator')\n",
        "pqc(backend, prior=0.38, modifiers=[1.93, 1.64, 0.8], shots=1, hist=True, measure=False)"
      ],
      "execution_count": 51,
      "outputs": [
        {
          "output_type": "execute_result",
          "data": {
            "image/png": "[encoded data removed]",
            "text/plain": [
              "<Figure size 864x288 with 1 Axes>"
            ]
          },
          "metadata": {},
          "execution_count": 51
        }
      ]
    },
    {
      "cell_type": "markdown",
      "metadata": {
        "id": "L06aYsSiDX09"
      },
      "source": [
        "#### Add if modifier > 1"
      ]
    },
    {
      "cell_type": "code",
      "metadata": {
        "colab": {
          "base_uri": "https://localhost:8080/",
          "height": 318
        },
        "id": "QCX5kh26_0IF",
        "outputId": "f818a2e4-bb03-4a8e-aa12-989e605c03fe"
      },
      "source": [
        "from functools import reduce\n",
        "from qiskit import QuantumCircuit, Aer, execute, ClassicalRegister, QuantumRegister\n",
        "from math import asin, sqrt, ceil\n",
        "from qiskit.visualization import plot_histogram\n",
        "import matplotlib.pyplot as plt\n",
        "\n",
        "def prob_to_angle(prob):\n",
        "  return 2*asin(sqrt(prob))\n",
        "\n",
        "def pqc(backend, prior, modifiers, shots=1, hist=False, measure=False):\n",
        "  qr=QuantumRegister(7)\n",
        "  cr=ClassicalRegister(1)\n",
        "  qc=QuantumCircuit(qr, cr) if measure else QuantumCircuit(qr)\n",
        "\n",
        "### INSERT QC as necessary\n",
        "\n",
        "  # We set our target qubit to use\n",
        "  target=6\n",
        "\n",
        "  # Apply prior to qubit to the target qubit\n",
        "  qc.ry(prob_to_angle(prior), target)\n",
        "\n",
        "  # auxiliary qubit to hold the whole prior\n",
        "  aux_full=5\n",
        "\n",
        "  # Work with the remainder\n",
        "  qc.x(target)\n",
        "\n",
        "  # Apply prior to full aux qubit\n",
        "  qc.cry(prob_to_angle(prior/(1-prior)), target, aux_full)\n",
        "\n",
        "\n",
        "## Added Lines\n",
        "  # second auxiliary qubit to hold the whole prior\n",
        "  aux_half=4\n",
        "\n",
        "  # Work with the remainder (Step CX)\n",
        "  qc.cx(aux_full, target)\n",
        "\n",
        "  # Apply 0.5 prior to half aux qubit to make 100000 to be 0.50 and leave the remainder in 1010000\n",
        "  qc.cry(prob_to_angle(0.5*prior/(1-2*prior)), target, aux_half)\n",
        "\n",
        "  # Reverse Step CX\n",
        "  qc.x(target)\n",
        "  qc.cx(aux_full, target)\n",
        "  \n",
        "  # sort the modifiers\n",
        "  sorted_modifiers=sorted(modifiers)\n",
        "\n",
        "  for step in range(0, len(modifiers)):\n",
        "    if sorted_modifiers[step]>1:\n",
        "      # Implement modeifiers increment to target\n",
        "      qc.cry(prob_to_angle(min(1, sorted_modifiers[step]-1)), aux_full, target)\n",
        "      ## separates qubit where target and aux_full are both 1\n",
        "      qc.ccx(target, aux_full, 0)\n",
        "      ## separates qubit where target and 0 are both 1\n",
        "      qc.ccx(target, 0, aux_full)\n",
        "\n",
        "    else: \n",
        "      # Apply modifiers increment to the target qubit\n",
        "      qc.cry(prob_to_angle(1-sorted_modifiers[step]), target, step*2)\n",
        "      # Reverse above\n",
        "      qc.cx(step*2,target)\n",
        "\n",
        "  ##  Measure he qubit if True\n",
        "  if measure:\n",
        "    qc.measure(qr[0], cr[0])\n",
        "\n",
        "  results=execute(qc, backend, shots=shots).result().get_counts()\n",
        "  return plot_histogram(results, figsize=(12,4)) if hist else results\n",
        "\n",
        "backend=Aer.get_backend('statevector_simulator')\n",
        "pqc(backend, prior=0.38, modifiers=[1.4], shots=1, hist=True, measure=False) "
      ],
      "execution_count": 52,
      "outputs": [
        {
          "output_type": "execute_result",
          "data": {
            "image/png": "[encoded data removed]",
            "text/plain": [
              "<Figure size 864x288 with 1 Axes>"
            ]
          },
          "metadata": {},
          "execution_count": 52
        }
      ]
    },
    {
      "cell_type": "code",
      "metadata": {
        "colab": {
          "base_uri": "https://localhost:8080/",
          "height": 318
        },
        "id": "0M-BUfaWHU0B",
        "outputId": "dae68c95-329b-4c14-c9ce-84810b0ec2cb"
      },
      "source": [
        "from functools import reduce\n",
        "from qiskit import QuantumCircuit, Aer, execute, ClassicalRegister, QuantumRegister\n",
        "from math import asin, sqrt, ceil\n",
        "from qiskit.visualization import plot_histogram\n",
        "import matplotlib.pyplot as plt\n",
        "\n",
        "def prob_to_angle(prob):\n",
        "  return 2*asin(sqrt(prob))\n",
        "\n",
        "def pqc(backend, prior, modifiers, shots=1, hist=False, measure=False):\n",
        "  qr=QuantumRegister(7)\n",
        "  cr=ClassicalRegister(1)\n",
        "  qc=QuantumCircuit(qr, cr) if measure else QuantumCircuit(qr)\n",
        "\n",
        "### INSERT QC as necessary\n",
        "\n",
        "  # We set our target qubit to use\n",
        "  target=6\n",
        "\n",
        "  # Apply prior to qubit to the target qubit\n",
        "  qc.ry(prob_to_angle(prior), target)\n",
        "\n",
        "  # auxiliary qubit to hold the whole prior\n",
        "  aux_full=5\n",
        "\n",
        "  # Work with the remainder\n",
        "  qc.x(target)\n",
        "\n",
        "  # Apply prior to full aux qubit\n",
        "  qc.cry(prob_to_angle(prior/(1-prior)), target, aux_full)\n",
        "\n",
        "  # second auxiliary qubit to hold the whole prior\n",
        "  aux_half=4\n",
        "\n",
        "  # Work with the remainder (Step CX)\n",
        "  qc.cx(aux_full, target)\n",
        "\n",
        "  # Apply 0.5 prior to half aux qubit to make 100000 to be 0.50 and leave the remainder in 1010000\n",
        "  qc.cry(prob_to_angle(0.5*prior/(1-2*prior)), target, aux_half)\n",
        "\n",
        "  # Reverse Step CX\n",
        "  qc.x(target)\n",
        "  qc.cx(aux_full, target)\n",
        "  \n",
        "  # sort the modifiers\n",
        "  sorted_modifiers=sorted(modifiers)\n",
        "\n",
        "  for step in range(0, len(modifiers)):\n",
        "    if sorted_modifiers[step]>1:\n",
        "      # Implement modeifiers increment to target\n",
        "      qc.cry(prob_to_angle(min(1, sorted_modifiers[step]-1)), aux_full, target)\n",
        "      ## separates qubit where target and aux_full are both 1\n",
        "      qc.ccx(target, aux_full, 0)\n",
        "      ## separates qubit where target and 0 are both 1\n",
        "      qc.ccx(target, 0, aux_full)\n",
        "\n",
        "    else: \n",
        "      # Apply modifiers increment to the target qubit\n",
        "      qc.cry(prob_to_angle(1-sorted_modifiers[step]), target, step*2)\n",
        "      # Reverse above\n",
        "      qc.cx(step*2,target)\n",
        "\n",
        "    if step==0:\n",
        "      qc.cry(prob_to_angle(min(1, (sorted_modifiers[step]-1)*2*2)), aux_half, aux_full) \n",
        "\n",
        "  ##  Measure he qubit if True\n",
        "  if measure:\n",
        "    qc.measure(qr[0], cr[0])\n",
        "\n",
        "  results=execute(qc, backend, shots=shots).result().get_counts()\n",
        "  return plot_histogram(results, figsize=(12,4)) if hist else results\n",
        "\n",
        "backend=Aer.get_backend('statevector_simulator')\n",
        "pqc(backend, prior=0.38, modifiers=[1.4], shots=1, hist=True, measure=False) "
      ],
      "execution_count": 59,
      "outputs": [
        {
          "output_type": "execute_result",
          "data": {
            "image/png": "[encoded data removed]",
            "text/plain": [
              "<Figure size 864x288 with 1 Axes>"
            ]
          },
          "metadata": {},
          "execution_count": 59
        }
      ]
    },
    {
      "cell_type": "markdown",
      "metadata": {
        "id": "FzYXRyjUoCnS"
      },
      "source": [
        "#### PQC Final code\n"
      ]
    },
    {
      "cell_type": "code",
      "metadata": {
        "colab": {
          "base_uri": "https://localhost:8080/",
          "height": 318
        },
        "id": "17Xa0PwXmaoY",
        "outputId": "02ed9a10-2f87-467e-f6f5-73edbdba9152"
      },
      "source": [
        "from functools import reduce\n",
        "from qiskit import QuantumCircuit, Aer, execute, ClassicalRegister, QuantumRegister\n",
        "from math import asin, sqrt, ceil\n",
        "from qiskit.visualization import plot_histogram\n",
        "import matplotlib.pyplot as plt\n",
        "\n",
        "def prob_to_angle(prob):\n",
        "  return 2*asin(sqrt(prob))\n",
        "\n",
        "def pqc(backend, prior, modifiers, shots=1, hist=False, measure=False):\n",
        "  qr=QuantumRegister(7)\n",
        "  cr=ClassicalRegister(1)\n",
        "  qc=QuantumCircuit(qr, cr) if measure else QuantumCircuit(qr)\n",
        "\n",
        "### INSERT QC as necessary\n",
        "\n",
        "  # Qubit positions\n",
        "  trunks=3\n",
        "  aux=trunks+1\n",
        "  aux_half=trunks+1\n",
        "  aux_full=trunks+2\n",
        "  target=trunks+3\n",
        "\n",
        "  # Apply prior to qubit to the target qubit\n",
        "  qc.ry(prob_to_angle(prior), target)\n",
        "\n",
        "  # Work with the remainder\n",
        "  qc.x(target)\n",
        "\n",
        "  # Apply prior to full aux qubit\n",
        "  qc.cry(prob_to_angle(prior/(1-prior)), target, aux_full)\n",
        "\n",
        "  # Work with the remainder (Step CX)\n",
        "  qc.cx(aux_full, target)\n",
        "\n",
        "  # Apply 0.5 prior to half aux qubit to make 100000 to be 0.50 and leave the remainder in 1010000\n",
        "  qc.cry(prob_to_angle(0.5*prior/(1-(2*prior))), target, aux_half)\n",
        "\n",
        "  # Reverse Step CX\n",
        "  qc.x(target)\n",
        "  qc.cx(aux_full, target)\n",
        "  \n",
        "  # sort the modifiers\n",
        "  sorted_modifiers=sorted(modifiers)\n",
        "\n",
        "  for step in range(0, len(modifiers)):\n",
        "    if sorted_modifiers[step]>1:\n",
        "      # Implement modeifiers increment to target\n",
        "      qc.cry(prob_to_angle(min(1, sorted_modifiers[step]-1)), aux_full, target)\n",
        "      ## separates qubit where target and aux_full are both 1\n",
        "      qc.ccx(target, aux_full, 0)\n",
        "      ## separates qubit where target and 0 are both 1\n",
        "      qc.ccx(target, 0, aux_full)\n",
        "\n",
        "      if step==0:\n",
        "        qc.cry(prob_to_angle(min(1,(sorted_modifiers[step]-1)*2*2)),aux_half, aux_full) \n",
        "\n",
        "    else: \n",
        "      # Apply modifiers increment to the target qubit\n",
        "      qc.cry(prob_to_angle(1-sorted_modifiers[step]), target, step*2)\n",
        "      # Reverse above\n",
        "      qc.cx(step*2,target)\n",
        "\n",
        "      if step==0:\n",
        "        qc.cry(prob_to_angle(1-sorted_modifiers[step]), aux_half, step*2+1) \n",
        "        # unentangle the full auxiliary from trunk\n",
        "        qc.cx(step*2+1, aux_full)\n",
        "\n",
        "  ##  Measure he qubit if True\n",
        "  if measure:\n",
        "    qc.measure(qr[target], cr[0])\n",
        "\n",
        "  results=execute(qc, backend, shots=shots).result().get_counts()\n",
        "  return plot_histogram(results, figsize=(12,4)) if hist else results\n",
        "\n",
        "backend=Aer.get_backend('statevector_simulator')\n",
        "pqc(backend, prior=0.38, modifiers=[1.4,1.3], shots=1, hist=True, measure=False) "
      ],
      "execution_count": 70,
      "outputs": [
        {
          "output_type": "execute_result",
          "data": {
            "image/png": "[encoded data removed]",
            "text/plain": [
              "<Figure size 864x288 with 1 Axes>"
            ]
          },
          "metadata": {},
          "execution_count": 70
        }
      ]
    },
    {
      "cell_type": "code",
      "metadata": {
        "colab": {
          "base_uri": "https://localhost:8080/",
          "height": 323
        },
        "id": "dhlV55Jum9h1",
        "outputId": "a074c4d8-3949-4d85-b298-a490cf124f41"
      },
      "source": [
        "backend=Aer.get_backend('qasm_simulator')\n",
        "plot_histogram(pqc(backend, prior=0.38, modifiers=[1.4,1.3], shots=1000, hist=False, measure=True))"
      ],
      "execution_count": 77,
      "outputs": [
        {
          "output_type": "execute_result",
          "data": {
            "image/png": "[encoded data removed]",
            "text/plain": [
              "<Figure size 504x360 with 1 Axes>"
            ]
          },
          "metadata": {},
          "execution_count": 77
        }
      ]
    },
    {
      "cell_type": "code",
      "metadata": {
        "colab": {
          "base_uri": "https://localhost:8080/",
          "height": 323
        },
        "id": "DMULEkEjnKfI",
        "outputId": "bfe3703e-27f3-4449-d88b-15669d92b181"
      },
      "source": [
        "backend=Aer.get_backend('qasm_simulator')\n",
        "plot_histogram(pqc(backend, prior=0.38, modifiers=[1.6403508771929822, 1.9332048273550118], shots=1000, hist=False, measure=True))"
      ],
      "execution_count": 79,
      "outputs": [
        {
          "output_type": "execute_result",
          "data": {
            "image/png": "[encoded data removed]",
            "text/plain": [
              "<Figure size 504x360 with 1 Axes>"
            ]
          },
          "metadata": {},
          "execution_count": 79
        }
      ]
    },
    {
      "cell_type": "markdown",
      "metadata": {
        "id": "rKKz17Izwaem"
      },
      "source": [
        "### Post Processing - Reporting"
      ]
    },
    {
      "cell_type": "code",
      "metadata": {
        "id": "CSSye66qtNxi"
      },
      "source": [
        "def post_process(counts):\n",
        "  return int(list(map(lambda item: item[0], counts.items()))[0])"
      ],
      "execution_count": 82,
      "outputs": []
    },
    {
      "cell_type": "code",
      "metadata": {
        "id": "pFWPxviewpIb"
      },
      "source": [
        "from sklearn.metrics import confusion_matrix\n",
        "from sklearn.metrics import precision_score\n",
        "from sklearn.metrics import recall_score\n",
        "\n",
        "\n",
        "#Ratio of True Negatives amongst all actual negatives\n",
        "def specificity(matrix):\n",
        "    return matrix[0][0]/(matrix[0][0]+matrix[0][1]) if (matrix[0][0]+matrix[0][1] > 0) else 0\n",
        "\n",
        "## Negative Predictive Value\n",
        "def npv(matrix):\n",
        "    return matrix[0][0]/(matrix[0][0]+matrix[1][0]) if (matrix[0][0]+matrix[1][0] > 0) else 0\n",
        "\n",
        "def classifier_report(name, run, classify, input, labels):\n",
        "  cr_predictions=run(classify, input)\n",
        "  cr_cm=confusion_matrix(labels, cr_predictions)\n",
        "  \n",
        "  cr_precision=precision_score(labels, cr_predictions)\n",
        "  cr_recall=recall_score(labels, cr_predictions)\n",
        "  cr_specificity=specificity(cr_cm)\n",
        "  cr_npv=npv(cr_cm)\n",
        "  cr_level=0.25*(cr_precision+cr_recall+cr_specificity+cr_npv)\n",
        "\n",
        "  print('The precision score of the {} classifier is {:.2f}'.format(name, cr_precision))\n",
        "  print('The recall score of the {} classifier is {:.2f}'.format(name, cr_recall))\n",
        "  print('The specificity score of the {} classifier is {:.2f}'.format(name, cr_specificity))\n",
        "  print('The npv score of the {} classifier is {:.2f}'.format(name, cr_npv))\n",
        "  print('The information level is: {:.2f}'.format(cr_level))"
      ],
      "execution_count": 90,
      "outputs": []
    },
    {
      "cell_type": "code",
      "metadata": {
        "colab": {
          "base_uri": "https://localhost:8080/"
        },
        "id": "cxs3igQMwgWd",
        "outputId": "b842b5ce-3d11-4f2c-a968-675d0691f3b6"
      },
      "source": [
        "# redefine the run−function\n",
        "def run(f_classify, data):\n",
        " return [f_classify(data.iloc[i]) for i in range(0,len(data))]\n",
        "\n",
        "# specify a reusable backend\n",
        "backend = Aer.get_backend('qasm_simulator')\n",
        "\n",
        "# evaluate the Quantum Naive Bayes classifier\n",
        "classifier_report(\"QuantumNaiveBayes\", run,\n",
        "                  lambda passenger: post_process(pqc(backend, prob_survival, \n",
        "                  pre_process(passenger), measure=True, hist=False)),\n",
        "                  train, train['Survived'])"
      ],
      "execution_count": 91,
      "outputs": [
        {
          "output_type": "stream",
          "name": "stdout",
          "text": [
            "The precision score of the QuantumNaiveBayes classifier is 0.64\n",
            "The recall score of the QuantumNaiveBayes classifier is 0.60\n",
            "The specificity score of the QuantumNaiveBayes classifier is 0.79\n",
            "The npv score of the QuantumNaiveBayes classifier is 0.76\n",
            "The information level is: 0.70\n"
          ]
        }
      ]
    }
  ]
}
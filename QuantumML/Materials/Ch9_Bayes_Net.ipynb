{
  "nbformat": 4,
  "nbformat_minor": 0,
  "metadata": {
    "colab": {
      "name": "QML-Ch9 Quantum Bayesian Networks.ipynb",
      "provenance": [],
      "collapsed_sections": [],
      "authorship_tag": "ABX9TyN3+vqiYR2NK3+YHOz1xn/w",
      "include_colab_link": true
    },
    "kernelspec": {
      "name": "python3",
      "display_name": "Python 3"
    },
    "language_info": {
      "name": "python"
    }
  },
  "cells": [
    {
      "cell_type": "markdown",
      "metadata": {
        "id": "view-in-github",
        "colab_type": "text"
      },
      "source": [
        "<a href=\"https://colab.research.google.com/github/Snafkin547/Quantum-ML/blob/main/QML_Ch9_Quantum_Bayesian_Networks.ipynb\" target=\"_parent\"><img src=\"https://colab.research.google.com/assets/colab-badge.svg\" alt=\"Open In Colab\"/></a>"
      ]
    },
    {
      "cell_type": "code",
      "metadata": {
        "id": "PWRZIfLMAKXl"
      },
      "source": [
        "!pip install qiskit\n",
        "!pip install numpy scipy matplotlib ipython pandas sympy nose seaborn\n",
        "!pip install scikit-learn\n",
        "!pip install pylatexenc ipywidgets qutip\n",
        "!pip install kaggle\n",
        "\n",
        "from google.colab import drive\n",
        "import os\n",
        "\n",
        "#Google Drive mounting to Google Colab\n",
        "drive.mount('/content/gdrive')\n",
        "os.environ['KAGGLE_CONFIG_DIR'] = \"/content/gdrive/My Drive/QML/Kaggle\"\n",
        "#Change the working directory\n",
        "%cd /content/gdrive/My Drive/QML/Kaggle/\n",
        "\n",
        "#Check if the directory was properly changed\n",
        "%pwd\n",
        "\n",
        "import pandas as pd\n",
        "\n",
        "train=pd.read_csv('./train.csv')"
      ],
      "execution_count": null,
      "outputs": []
    },
    {
      "cell_type": "code",
      "metadata": {
        "colab": {
          "base_uri": "https://localhost:8080/"
        },
        "id": "AEY6UbQN_iU5",
        "outputId": "a8713a9b-5f44-462d-a01a-0d7b1fdfe8ce"
      },
      "source": [
        "def chance_to_survive(age):\n",
        "  pop=train[train['Age']==age]\n",
        "  surv=pop[pop['Survived']==1]\n",
        "  prob=len(surv)/(len(pop)+1)\n",
        "  return \"A {} - year old passenger had a chance to survive of {}\".format(age, prob)\n",
        "\n",
        "print(chance_to_survive(47))\n",
        "print(chance_to_survive(48))"
      ],
      "execution_count": 5,
      "outputs": [
        {
          "output_type": "stream",
          "name": "stdout",
          "text": [
            "A 47 - year old passenger had a chance to survive of 0.1\n",
            "A 48 - year old passenger had a chance to survive of 0.6\n"
          ]
        }
      ]
    },
    {
      "cell_type": "code",
      "metadata": {
        "colab": {
          "base_uri": "https://localhost:8080/"
        },
        "id": "SXHXivrfATBk",
        "outputId": "f741eb12-2ad8-40c8-b96a-d9c0bbcda855"
      },
      "source": [
        "max_child_age=8\n",
        "\n",
        "#Child survival prob\n",
        "pop_child=train[train['Age']<=max_child_age]\n",
        "surv_child=pop_child[pop_child['Survived']==1]\n",
        "p_child=len(surv_child)/len(pop_child)\n",
        "\n",
        "#Adult survival prob\n",
        "pop_adult=train[train['Age']>max_child_age]\n",
        "surv_adult=pop_adult[pop_adult['Survived']==1]\n",
        "p_adult=len(surv_adult)/len(pop_adult)\n",
        "\n",
        "print(\"Child survival rate: {}\".format(round(p_child,2)))\n",
        "print(\"Adult survival rate: {}\".format(round(p_adult,2)))\n",
        "\n"
      ],
      "execution_count": 11,
      "outputs": [
        {
          "output_type": "stream",
          "name": "stdout",
          "text": [
            "Child survival rate: 0.67\n",
            "Adult survival rate: 0.38\n"
          ]
        }
      ]
    },
    {
      "cell_type": "code",
      "metadata": {
        "colab": {
          "base_uri": "https://localhost:8080/",
          "height": 331
        },
        "id": "XAkIP-fqBrCC",
        "outputId": "414ef15d-5c77-4bc7-9eaa-382d8dcbe1da"
      },
      "source": [
        "from functools import reduce\n",
        "from qiskit import QuantumCircuit, Aer, execute, ClassicalRegister, QuantumRegister\n",
        "from math import asin, sqrt, ceil, pi\n",
        "from qiskit.visualization import plot_histogram\n",
        "import matplotlib.pyplot as plt\n",
        "\n",
        "def prob_to_angle(prob):\n",
        "\n",
        "  return 2*asin(sqrt(prob))\n",
        "\n",
        "qc=QuantumCircuit(2)\n",
        "\n",
        "# Assigning |1> 0.4\n",
        "qc.ry(prob_to_angle(0.4),0)\n",
        "\n",
        "# Switch probs\n",
        "qc.x(0)\n",
        "\n",
        "# work on remainder\n",
        "qc.cry(prob_to_angle(0.8),0,1)\n",
        "\n",
        "results=execute(qc, Aer.get_backend('statevector_simulator')).result().get_counts()\n",
        "\n",
        "plot_histogram(results)\n"
      ],
      "execution_count": 17,
      "outputs": [
        {
          "output_type": "execute_result",
          "data": {
            "image/png": "[encoded data removed]",
            "text/plain": [
              "<Figure size 504x360 with 1 Axes>"
            ]
          },
          "metadata": {},
          "execution_count": 17
        }
      ]
    },
    {
      "cell_type": "code",
      "metadata": {
        "colab": {
          "base_uri": "https://localhost:8080/",
          "height": 339
        },
        "id": "dfOFCzhWFdlW",
        "outputId": "78f594b2-4eef-44d0-ab7e-3574c4c333b9"
      },
      "source": [
        "# Self-made CCNOT Gate\n",
        "\n",
        "theta=pi/2\n",
        "\n",
        "def ccnot(qc):\n",
        "  qc.cry(theta,1,2)\n",
        "  qc.cx(0,1)\n",
        "  qc.cry(-theta,1,2)\n",
        "  qc.cx(0,1)\n",
        "  qc.cry(theta, 0,2)\n",
        "\n",
        "  return execute(qc, Aer.get_backend('statevector_simulator')).result().get_counts()\n",
        "\n",
        "qc=QuantumCircuit(3)\n",
        "\n",
        "qc.x(0)\n",
        "\n",
        "plot_histogram(ccnot(qc))\n"
      ],
      "execution_count": 29,
      "outputs": [
        {
          "output_type": "execute_result",
          "data": {
            "image/png": "[encoded data removed]",
            "text/plain": [
              "<Figure size 504x360 with 1 Axes>"
            ]
          },
          "metadata": {},
          "execution_count": 29
        }
      ]
    },
    {
      "cell_type": "markdown",
      "metadata": {
        "id": "byQPYMghP526"
      },
      "source": [
        "### Circuit Implementation"
      ]
    },
    {
      "cell_type": "code",
      "metadata": {
        "id": "qYrLdkFXIAtL"
      },
      "source": [
        "max_child_age=8\n",
        "\n",
        "#Prob of being child\n",
        "pop_child=train[train['Age']<=max_child_age]\n",
        "p_child=len(pop_child)/len(train)\n",
        "\n",
        "#Adult survival prob\n",
        "pop_female=train[train['Sex']==\"female\"]\n",
        "p_female=len(pop_female)/len(train)\n",
        "\n",
        "qc=QuantumCircuit(3)\n",
        "\n",
        "#Q0 to be prob child, Q1 to be prob female\n",
        "qc.ry(prob_to_angle(p_child),0)\n",
        "qc.ry(prob_to_angle(p_female),1)\n",
        "\n",
        "def ccry(qc, theta, control1, control2, controlled):\n",
        "  qc.cry(theta/2, control2, controlled)\n",
        "  qc.cx(control1, control2)\n",
        "  qc.cry(-theta/2, control2, controlled)\n",
        "  qc.cx(control1, control2)\n",
        "  qc.cry(theta/2, control1, controlled)"
      ],
      "execution_count": 59,
      "outputs": []
    },
    {
      "cell_type": "code",
      "metadata": {
        "id": "qN5XfsmBSZRL"
      },
      "source": [
        "# female children\n",
        "p_surv_f_c=len(train[train['Sex']==\"female\"][train['Age']<=max_child_age][train['Survived']==1])/len(train[train['Sex']==\"female\"][train['Age']<=max_child_age])\n",
        "# female adults\n",
        "p_surv_f_a=len(train[train['Sex']==\"female\"][train['Age']>max_child_age][train['Survived']==1])/len(train[train['Sex']==\"female\"][train['Age']>max_child_age])\n",
        "# male children\n",
        "p_surv_m_c=len(train[train['Sex']==\"male\"][train['Age']<=max_child_age][train['Survived']==1])/len(train[train['Sex']==\"male\"][train['Age']<=max_child_age])\n",
        "# male adults\n",
        "p_surv_m_a=len(train[train['Sex']==\"male\"][train['Age']>max_child_age][train['Survived']==1])/len(train[train['Sex']==\"male\"][train['Age']>max_child_age])"
      ],
      "execution_count": null,
      "outputs": []
    },
    {
      "cell_type": "code",
      "metadata": {
        "colab": {
          "base_uri": "https://localhost:8080/",
          "height": 357
        },
        "id": "N5TwKWg-XR3_",
        "outputId": "193ac206-0e5e-48cf-9af8-bcafdc86cb55"
      },
      "source": [
        "# state |00> to conditional prob of male adults\n",
        "qc.x(0)\n",
        "qc.x(1)\n",
        "ccry(qc, prob_to_angle(p_surv_m_a), 0,1,2)\n",
        "qc.x(0)\n",
        "qc.x(1)\n",
        "\n",
        "# state |01> to conditional prob of male children\n",
        "qc.x(0)\n",
        "ccry(qc, prob_to_angle(p_surv_m_c), 0,1,2)\n",
        "qc.x(0)\n",
        "\n",
        "# state |10 to conditional prob of female children\n",
        "qc.x(1)\n",
        "ccry(qc, prob_to_angle(p_surv_f_a), 0,1,2)\n",
        "qc.x(1)\n",
        "\n",
        "# state |11> to conditional prob of female children\n",
        "ccry(qc, prob_to_angle(p_surv_f_c), 0,1,2)\n",
        "\n",
        "results=execute(qc, Aer.get_backend('statevector_simulator')).result().get_counts()\n",
        "\n",
        "print(\"Q2=1 is survivors and Q2=0 is victims\")\n",
        "plot_histogram(results)\n"
      ],
      "execution_count": 61,
      "outputs": [
        {
          "output_type": "stream",
          "name": "stdout",
          "text": [
            "Q2=1 is survivors and Q2=0 is victims\n"
          ]
        },
        {
          "output_type": "execute_result",
          "data": {
            "image/png": "[encoded data removed]",
            "text/plain": [
              "<Figure size 504x360 with 1 Axes>"
            ]
          },
          "metadata": {},
          "execution_count": 61
        }
      ]
    },
    {
      "cell_type": "code",
      "metadata": {
        "colab": {
          "base_uri": "https://localhost:8080/",
          "height": 340
        },
        "id": "6n66XRr2YM0V",
        "outputId": "c8b920d6-02df-4a6a-8fb3-c1c1d2da70a4"
      },
      "source": [
        "# To summarize Q2=0 and Q2=1, adding measurement\n",
        "\n",
        "qr=QuantumRegister(3)\n",
        "cr=ClassicalRegister(1)\n",
        "qc=QuantumCircuit(qr, cr)\n",
        "\n",
        "#Q0 to be prob child, Q1 to be prob female\n",
        "qc.ry(prob_to_angle(p_child),0)\n",
        "qc.ry(prob_to_angle(p_female),1)\n",
        "\n",
        "# state |00> to conditional prob of male adults\n",
        "qc.x(0)\n",
        "qc.x(1)\n",
        "ccry(qc, prob_to_angle(p_surv_m_a), 0,1,2)\n",
        "qc.x(0)\n",
        "qc.x(1)\n",
        "\n",
        "# state |01> to conditional prob of male children\n",
        "qc.x(0)\n",
        "ccry(qc, prob_to_angle(p_surv_m_c), 0,1,2)\n",
        "qc.x(0)\n",
        "\n",
        "# state |10> to conditional prob of female children\n",
        "qc.x(1)\n",
        "ccry(qc, prob_to_angle(p_surv_f_a), 0,1,2)\n",
        "qc.x(1)\n",
        "\n",
        "# state |11> to conditional prob of female children\n",
        "ccry(qc, prob_to_angle(p_surv_f_c), 0,1,2)\n",
        "\n",
        "qc.measure(qr[2], cr[0])\n",
        "\n",
        "results=execute(qc, Aer.get_backend('qasm_simulator'), shots=1000).result().get_counts()\n",
        "print(\"1 is survivors and 0 is victims\")\n",
        "plot_histogram(results)"
      ],
      "execution_count": 64,
      "outputs": [
        {
          "output_type": "stream",
          "name": "stdout",
          "text": [
            "1 is survivors and 0 is victims\n"
          ]
        },
        {
          "output_type": "execute_result",
          "data": {
            "image/png": "[encoded data removed]",
            "text/plain": [
              "<Figure size 504x360 with 1 Axes>"
            ]
          },
          "metadata": {},
          "execution_count": 64
        }
      ]
    }
  ]
}